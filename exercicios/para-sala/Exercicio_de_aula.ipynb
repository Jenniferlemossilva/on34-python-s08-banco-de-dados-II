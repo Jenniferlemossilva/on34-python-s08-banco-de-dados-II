{
  "nbformat": 4,
  "nbformat_minor": 0,
  "metadata": {
    "colab": {
      "provenance": [],
      "toc_visible": true
    },
    "kernelspec": {
      "name": "python3",
      "display_name": "Python 3"
    },
    "language_info": {
      "name": "python"
    }
  },
  "cells": [
    {
      "cell_type": "markdown",
      "source": [
        "# ON34 Python S08 Banco de dados II - Exercicio de aula\n",
        "\n",
        "Esse documento tem como objetivo descrecer exercícios de uso de consultas de banco de dados.\n",
        "Para tanto, será usada a Biblioteca SQLite para criarmos e manipularmos tabelas, suas relações e seus dados.\n",
        "\n",
        "Neste [link](https://colab.research.google.com/drive/1iXh_l1R66L1B30lIj-oLATCwCLyWdF0u?usp=sharing) é possivel encontrar uma explicação completa de como a biblioteca funciona e suas principais features.\n",
        "\n",
        "Para documentações oficiais use esse link da [biblioteca Python do SQLite](https://docs.python.org/3/library/sqlite3.html) e esse das [funções SQLite](https://www.sqlitetutorial.net/).\n",
        "\n",
        "Sendo assim, a seguir vou passar mais para um caso de uso dessa aula, criar uma visão prática de uso de banco de dados.\n"
      ],
      "metadata": {
        "id": "TM2676gVSOD6"
      }
    },
    {
      "cell_type": "markdown",
      "source": [
        "# 1. Visualizando o banco\n",
        "\n",
        "Nesse ponto, o objetivo principal é o entendimento do Banco de dados usado para os exercicos dessa aula.\n",
        "\n",
        "Sendo assim, o caso que servirá de plano de fundo para esse exercicio é o da Companhia Aerea SAMBA em um arquivo chamado \"dados_de_voo.db\", que possui as seguintes tabelas já populadas:\n",
        "\n",
        "![Banco de dados](https://drive.google.com/uc?export=view&id=1JUVNzdDnOEpS9UracGfdZcQKBllAANfS)\n",
        "\n",
        "\n",
        "\n"
      ],
      "metadata": {
        "id": "VsomC6JmS2xj"
      }
    },
    {
      "cell_type": "markdown",
      "source": [
        "##Inserindo dados e populando"
      ],
      "metadata": {
        "id": "Y-BgfFofTZUL"
      }
    },
    {
      "cell_type": "code",
      "source": [
        "# Importar a biblioteca\n",
        "import sqlite3\n",
        "\n",
        "#Criar uma conexão com um banco de dados (no nosso caso, não temos um arquivo de banco de dados pré feito, então decidiu-se inicializar um denominado dados_de_voo.db)\n",
        "conn = sqlite3.connect(\"dados_de_voo.db\")\n",
        "\n",
        "# Criar um cursor no banco que permitirá o uso de comandos no formato SQL\n",
        "cur  = conn.cursor()"
      ],
      "metadata": {
        "id": "4V68Dhy_TdQt"
      },
      "execution_count": null,
      "outputs": []
    },
    {
      "cell_type": "code",
      "source": [
        "# Criando a tabela registro_passageiros\n",
        "cur.execute(\"\"\"\n",
        "CREATE TABLE registro_passageiros (\n",
        "  id_passageiro TEXT NOT NULL PRIMARY KEY,\n",
        "  st_nome TEXT NOT NULL,\n",
        "  st_categoria TEXT NOT NULL,\n",
        "  st_sexo TEXT,\n",
        "  dt_nascimento TEXT NOT NULL,\n",
        "  st_nacionalidade TEXT NOT NULL,\n",
        "  st_estado_civil TEXT NOT NULL\n",
        ")\n",
        "\"\"\")\n",
        "\n",
        "# Criando a tabela restricao_alimentar\n",
        "cur.execute(\"\"\"\n",
        "CREATE TABLE restricao_alimentar (\n",
        "  id_passageiro TEXT NOT NULL,\n",
        "  st_alergia_alimentar TEXT,\n",
        "  st_restricao_alimentar TEXT,\n",
        "  FOREIGN KEY (id_passageiro)\n",
        "      REFERENCES registro_passageiros (id_passageiro)\n",
        "         ON DELETE CASCADE\n",
        "         ON UPDATE NO ACTION\n",
        ")\n",
        "\"\"\")\n",
        "\n",
        "# Criando a tabela registro_refeicoes\n",
        "cur.execute(\"\"\"\n",
        "CREATE TABLE registro_refeicoes(\n",
        "  id_refeicao TEXT NOT NULL PRIMARY KEY,\n",
        "  st_nome TEXT NOT NULL,\n",
        "  float_custo REAL NOT NULL\n",
        ")\n",
        "\"\"\")\n",
        "\n",
        "# Criando a tabela registro_alergicos\n",
        "cur.execute(\"\"\"\n",
        "CREATE TABLE registro_alergicos(\n",
        "  id_refeicao TEXT NOT NULL,\n",
        "  st_alergico TEXT NOT NULL,\n",
        "  FOREIGN KEY (id_refeicao)\n",
        "      REFERENCES registro_refeicoes (id_refeicao)\n",
        "         ON DELETE CASCADE\n",
        "         ON UPDATE NO ACTION\n",
        ")\n",
        "\"\"\")\n",
        "\n",
        "# Criando a tabela registro_voo\n",
        "cur.execute(\"\"\"\n",
        "CREATE TABLE registro_voo(\n",
        "  id_voo TEXT NOT NULL PRIMARY KEY,\n",
        "  st_origem TEXT NOT NULL,\n",
        "  st_destino TEXT NOT NULL,\n",
        "  dt_voo TEXT NOT NULL\n",
        ")\n",
        "\"\"\")"
      ],
      "metadata": {
        "colab": {
          "base_uri": "https://localhost:8080/"
        },
        "id": "LqSIY0VGTrE0",
        "outputId": "6c65934f-d70a-4572-e94f-04e8d53b027d"
      },
      "execution_count": null,
      "outputs": [
        {
          "output_type": "execute_result",
          "data": {
            "text/plain": [
              "<sqlite3.Cursor at 0x7c26c52b1fc0>"
            ]
          },
          "metadata": {},
          "execution_count": 2
        }
      ]
    },
    {
      "cell_type": "code",
      "source": [
        "# Criando a tabela registro_passageiros (id_passageiro, st_nome, st_categoria, st_sexo, dt_nascimento, st_nacionalidade, st_estado_civil)\n",
        "cur.execute(\"\"\"\n",
        "INSERT INTO registro_passageiros VALUES\n",
        "  ('p1','Ana Antunes','Gold','F','14/06/1999','Brasileiro', 'solteiro(a)'),\n",
        "  ('p2','Mario Marques','Silver','M','06/11/1980','Brasileiro', 'solteiro(a)'),\n",
        "  ('p3','Maria Marques','Silver','F','16/10/1976','Brasileiro', 'divorciado(a)'),\n",
        "  ('p4','Pietro Palmeira','Silver','M','26/10/1988','Português', 'casado(a)'),\n",
        "  ('p5','Pamela Pluma Palmeira','Silver','F','26/10/1988','Brasileiro', 'Casado(a)'),\n",
        "  ('p6','Saulo Sauro','Bronze','M','23/11/1998','Brasileiro', 'solteiro(a)'),\n",
        "  ('p7','Volverine Valadares','Gold','M','04/04/2006','Brasileiro', 'solteiro(a)'),\n",
        "  ('p8','Waldisney Washington','Gold','M','02/05/2000','Brasileiro', 'divorciado(a)'),\n",
        "  ('p9','Daniel Dimes','Silver','M','17/09/1995','Brasileiro', 'solteiro(a)'),\n",
        "  ('p10','Daniela Dimes','Silver','F','17/09/2023','Brasileiro', 'solteiro(a)')\n",
        "\n",
        "\n",
        "\"\"\")\n",
        "# Comitar as inserções\n",
        "conn.commit()\n",
        "\n",
        "#Verificar dados na tabela\n",
        "res = cur.execute(\"SELECT * FROM registro_passageiros\")\n",
        "res.fetchall()"
      ],
      "metadata": {
        "colab": {
          "base_uri": "https://localhost:8080/"
        },
        "id": "RkmcXxGzgP3A",
        "outputId": "2b33db70-e887-4e6b-d22f-49fb5cfd5313"
      },
      "execution_count": null,
      "outputs": [
        {
          "output_type": "execute_result",
          "data": {
            "text/plain": [
              "[('p1', 'Ana Antunes', 'Gold', 'F', '14/06/1999', 'Brasileiro', 'solteiro(a)'),\n",
              " ('p2',\n",
              "  'Mario Marques',\n",
              "  'Silver',\n",
              "  'M',\n",
              "  '06/11/1980',\n",
              "  'Brasileiro',\n",
              "  'solteiro(a)'),\n",
              " ('p3',\n",
              "  'Maria Marques',\n",
              "  'Silver',\n",
              "  'F',\n",
              "  '16/10/1976',\n",
              "  'Brasileiro',\n",
              "  'divorciado(a)'),\n",
              " ('p4',\n",
              "  'Pietro Palmeira',\n",
              "  'Silver',\n",
              "  'M',\n",
              "  '26/10/1988',\n",
              "  'Português',\n",
              "  'casado(a)'),\n",
              " ('p5',\n",
              "  'Pamela Pluma Palmeira',\n",
              "  'Silver',\n",
              "  'F',\n",
              "  '26/10/1988',\n",
              "  'Brasileiro',\n",
              "  'Casado(a)'),\n",
              " ('p6',\n",
              "  'Saulo Sauro',\n",
              "  'Bronze',\n",
              "  'M',\n",
              "  '23/11/1998',\n",
              "  'Brasileiro',\n",
              "  'solteiro(a)'),\n",
              " ('p7',\n",
              "  'Volverine Valadares',\n",
              "  'Gold',\n",
              "  'M',\n",
              "  '04/04/2006',\n",
              "  'Brasileiro',\n",
              "  'solteiro(a)'),\n",
              " ('p8',\n",
              "  'Waldisney Washington',\n",
              "  'Gold',\n",
              "  'M',\n",
              "  '02/05/2000',\n",
              "  'Brasileiro',\n",
              "  'divorciado(a)'),\n",
              " ('p9',\n",
              "  'Daniel Dimes',\n",
              "  'Silver',\n",
              "  'M',\n",
              "  '17/09/1995',\n",
              "  'Brasileiro',\n",
              "  'solteiro(a)'),\n",
              " ('p10',\n",
              "  'Daniela Dimes',\n",
              "  'Silver',\n",
              "  'F',\n",
              "  '17/09/2023',\n",
              "  'Brasileiro',\n",
              "  'solteiro(a)')]"
            ]
          },
          "metadata": {},
          "execution_count": 3
        }
      ]
    },
    {
      "cell_type": "code",
      "source": [
        "# Criando a tabela restricao_alimentar (id_passageiro, st_alergia_alimentar, st_restricao_alimentar)\n",
        "cur.execute(\"\"\"\n",
        "INSERT INTO restricao_alimentar (id_passageiro, st_alergia_alimentar) VALUES\n",
        "  ('p2','Lactose'),\n",
        "  ('p3','Lactose'),\n",
        "  ('p4','Frutos do Mar'),\n",
        "  ('p4','Castanhas'),\n",
        "  ('p7','Glutem'),\n",
        "  ('p7','Frutos do Mar')\n",
        "\"\"\")\n",
        "\n",
        "cur.execute(\"\"\"\n",
        "INSERT INTO restricao_alimentar (id_passageiro, st_restricao_alimentar) VALUES\n",
        "  ('p1','Vegano'),\n",
        "  ('p8','Vegetariano')\n",
        "\"\"\")\n",
        "\n",
        "cur.execute(\"\"\"\n",
        "INSERT INTO restricao_alimentar VALUES\n",
        "  ('p6','Castanhas','Vegetariano')\n",
        "\"\"\")\n",
        "\n",
        "# Comitar as inserções\n",
        "conn.commit()\n",
        "\n",
        "#Verificar dados na tabela\n",
        "res = cur.execute(\"SELECT * FROM restricao_alimentar\")\n",
        "res.fetchall()"
      ],
      "metadata": {
        "colab": {
          "base_uri": "https://localhost:8080/"
        },
        "id": "Jp59pM2GoncL",
        "outputId": "277f709f-4562-4702-ca87-b80d09b99a46"
      },
      "execution_count": null,
      "outputs": [
        {
          "output_type": "execute_result",
          "data": {
            "text/plain": [
              "[('p2', 'Lactose', None),\n",
              " ('p3', 'Lactose', None),\n",
              " ('p4', 'Frutos do Mar', None),\n",
              " ('p4', 'Castanhas', None),\n",
              " ('p7', 'Glutem', None),\n",
              " ('p7', 'Frutos do Mar', None),\n",
              " ('p1', None, 'Vegano'),\n",
              " ('p8', None, 'Vegetariano'),\n",
              " ('p6', 'Castanhas', 'Vegetariano')]"
            ]
          },
          "metadata": {},
          "execution_count": 4
        }
      ]
    },
    {
      "cell_type": "code",
      "source": [
        "# Criando a tabela registro_refeicoes (id_refeicao, st_nome, float_custo)\n",
        "cur.execute(\"\"\"\n",
        "INSERT INTO registro_refeicoes VALUES\n",
        "  ('r1', 'Frango com Legumes', 20),\n",
        "  ('r2', 'Picadinho de carne', 25),\n",
        "  ('r3', 'Salada com castanhas', 15),\n",
        "  ('r4', 'Risoto de Camarão', 30),\n",
        "  ('r5', 'Hamburguer Combo', 35),\n",
        "  ('r6', 'Hamburguer Vegano Combo', 30)\n",
        "\"\"\")\n",
        "# Comitar as inserções\n",
        "conn.commit()\n",
        "\n",
        "#Verificar dados na tabela\n",
        "res = cur.execute(\"SELECT * FROM registro_refeicoes\")\n",
        "res.fetchall()"
      ],
      "metadata": {
        "id": "MqTknQy0hu0k",
        "colab": {
          "base_uri": "https://localhost:8080/"
        },
        "outputId": "a7638f03-3695-42da-fc3d-332487f1a1e0"
      },
      "execution_count": null,
      "outputs": [
        {
          "output_type": "execute_result",
          "data": {
            "text/plain": [
              "[('r1', 'Frango com Legumes', 20.0),\n",
              " ('r2', 'Picadinho de carne', 25.0),\n",
              " ('r3', 'Salada com castanhas', 15.0),\n",
              " ('r4', 'Risoto de Camarão', 30.0),\n",
              " ('r5', 'Hamburguer Combo', 35.0),\n",
              " ('r6', 'Hamburguer Vegano Combo', 30.0)]"
            ]
          },
          "metadata": {},
          "execution_count": 5
        }
      ]
    },
    {
      "cell_type": "code",
      "source": [
        "# Criando a tabela registro_alergicos (id_refeicao, st_alergico)\n",
        "cur.execute(\"\"\"\n",
        "INSERT INTO registro_alergicos VALUES\n",
        "  ('r1', \"Vegetariano\"),\n",
        "  ('r1', \"Vegano\"),\n",
        "  ('r1', \"Glutem\"),\n",
        "  ('r2', \"Vegetariano\"),\n",
        "  ('r2', \"Vegano\"),\n",
        "  ('r2', \"Glutem\"),\n",
        "  ('r3', \"Castanhas\"),\n",
        "  ('r4', \"Lactose\"),\n",
        "  ('r4', \"Frutos do Mar\"),\n",
        "  ('r4', \"Vegetariano\"),\n",
        "  ('r4', \"Vegano\"),\n",
        "  ('r4', \"Glutem\"),\n",
        "  ('r5', \"Vegetariano\"),\n",
        "  ('r5', \"Vegano\"),\n",
        "  ('r5', \"Glutem\"),\n",
        "  ('r5', \"Lactose\")\n",
        "\"\"\")\n",
        "# Comitar as inserções\n",
        "conn.commit()\n",
        "\n",
        "#Verificar dados na tabela\n",
        "res = cur.execute(\"SELECT * FROM registro_alergicos\")\n",
        "res.fetchall()"
      ],
      "metadata": {
        "colab": {
          "base_uri": "https://localhost:8080/"
        },
        "id": "pR_gXr17rD2o",
        "outputId": "ff475a6c-82fe-40f3-a7f8-e1327ecb787d"
      },
      "execution_count": null,
      "outputs": [
        {
          "output_type": "execute_result",
          "data": {
            "text/plain": [
              "[('r1', 'Vegetariano'),\n",
              " ('r1', 'Vegano'),\n",
              " ('r1', 'Glutem'),\n",
              " ('r2', 'Vegetariano'),\n",
              " ('r2', 'Vegano'),\n",
              " ('r2', 'Glutem'),\n",
              " ('r3', 'Castanhas'),\n",
              " ('r4', 'Lactose'),\n",
              " ('r4', 'Frutos do Mar'),\n",
              " ('r4', 'Vegetariano'),\n",
              " ('r4', 'Vegano'),\n",
              " ('r4', 'Glutem'),\n",
              " ('r5', 'Vegetariano'),\n",
              " ('r5', 'Vegano'),\n",
              " ('r5', 'Glutem'),\n",
              " ('r5', 'Lactose')]"
            ]
          },
          "metadata": {},
          "execution_count": 6
        }
      ]
    },
    {
      "cell_type": "code",
      "source": [
        "# Criando a tabela registro_voo (id_voo,  st_origem, st_destino, dt_voo)\n",
        "cur.execute(\"\"\"\n",
        "INSERT INTO registro_voo VALUES\n",
        "  ('v1', \"GRU\", \"REC\", \"01/02/2024\"),\n",
        "  ('v2', \"VCP\", \"SDU\", \"15/03/2024\"),\n",
        "  ('v3', \"REC\", \"GRU\", \"20/06/2024\")\n",
        "\"\"\")\n",
        "# Comitar as inserções\n",
        "conn.commit()\n",
        "\n",
        "#Verificar dados na tabela\n",
        "res = cur.execute(\"SELECT * FROM registro_voo\")\n",
        "res.fetchall()"
      ],
      "metadata": {
        "colab": {
          "base_uri": "https://localhost:8080/"
        },
        "id": "5H04Ex_vsA-R",
        "outputId": "6700031c-398e-47c2-d459-94824b07331d"
      },
      "execution_count": null,
      "outputs": [
        {
          "output_type": "execute_result",
          "data": {
            "text/plain": [
              "[('v1', 'GRU', 'REC', '01/02/2024'),\n",
              " ('v2', 'VCP', 'SDU', '15/03/2024'),\n",
              " ('v3', 'REC', 'GRU', '20/06/2024')]"
            ]
          },
          "metadata": {},
          "execution_count": 7
        }
      ]
    },
    {
      "cell_type": "markdown",
      "source": [
        "#Trabalhando com Instruções auxiliares\n",
        "\n",
        "A seguir, alguns exercicios serão propostos, usem as seguintes funções para resolvê-los:\n",
        "\n",
        "*   DISTINCT\n",
        "*   AS\n",
        "*   CASE\n",
        "*   HAVING\n",
        "\n"
      ],
      "metadata": {
        "id": "4xuV0QGAvlgU"
      }
    },
    {
      "cell_type": "markdown",
      "source": [
        "## Desafio 1\n",
        "\n",
        "Desenvolva uma consulta que retorne as categorias de passageiros distintas que existem na companhia SAMBA:"
      ],
      "metadata": {
        "id": "Ni5q57-NwM4m"
      }
    },
    {
      "cell_type": "code",
      "source": [
        "#Desenvolva sua resposta aqui:\n",
        "cur.execute(\"SELECT * FROM registro_passageiros\").fetchall()"
      ],
      "metadata": {
        "id": "58IJiSHsw8Rm",
        "colab": {
          "base_uri": "https://localhost:8080/"
        },
        "outputId": "9146dc6f-7d8d-40b6-948c-38ebea2e4726"
      },
      "execution_count": null,
      "outputs": [
        {
          "output_type": "execute_result",
          "data": {
            "text/plain": [
              "[('p1', 'Ana Antunes', 'Gold', 'F', '14/06/1999', 'Brasileiro', 'solteiro(a)'),\n",
              " ('p2',\n",
              "  'Mario Marques',\n",
              "  'Silver',\n",
              "  'M',\n",
              "  '06/11/1980',\n",
              "  'Brasileiro',\n",
              "  'solteiro(a)'),\n",
              " ('p3',\n",
              "  'Maria Marques',\n",
              "  'Silver',\n",
              "  'F',\n",
              "  '16/10/1976',\n",
              "  'Brasileiro',\n",
              "  'divorciado(a)'),\n",
              " ('p4',\n",
              "  'Pietro Palmeira',\n",
              "  'Silver',\n",
              "  'M',\n",
              "  '26/10/1988',\n",
              "  'Português',\n",
              "  'casado(a)'),\n",
              " ('p5',\n",
              "  'Pamela Pluma Palmeira',\n",
              "  'Silver',\n",
              "  'F',\n",
              "  '26/10/1988',\n",
              "  'Brasileiro',\n",
              "  'Casado(a)'),\n",
              " ('p6',\n",
              "  'Saulo Sauro',\n",
              "  'Bronze',\n",
              "  'M',\n",
              "  '23/11/1998',\n",
              "  'Brasileiro',\n",
              "  'solteiro(a)'),\n",
              " ('p7',\n",
              "  'Volverine Valadares',\n",
              "  'Gold',\n",
              "  'M',\n",
              "  '04/04/2006',\n",
              "  'Brasileiro',\n",
              "  'solteiro(a)'),\n",
              " ('p8',\n",
              "  'Waldisney Washington',\n",
              "  'Gold',\n",
              "  'M',\n",
              "  '02/05/2000',\n",
              "  'Brasileiro',\n",
              "  'divorciado(a)'),\n",
              " ('p9',\n",
              "  'Daniel Dimes',\n",
              "  'Silver',\n",
              "  'M',\n",
              "  '17/09/1995',\n",
              "  'Brasileiro',\n",
              "  'solteiro(a)'),\n",
              " ('p10',\n",
              "  'Daniela Dimes',\n",
              "  'Silver',\n",
              "  'F',\n",
              "  '17/09/2023',\n",
              "  'Brasileiro',\n",
              "  'solteiro(a)')]"
            ]
          },
          "metadata": {},
          "execution_count": 28
        }
      ]
    },
    {
      "cell_type": "code",
      "source": [
        "cur.execute(\"SELECT st_categoria FROM registro_passageiros\").fetchall()"
      ],
      "metadata": {
        "colab": {
          "base_uri": "https://localhost:8080/"
        },
        "id": "fvjWNUD08G86",
        "outputId": "846c612e-9d77-4a0c-e8b2-416a23720ca7"
      },
      "execution_count": null,
      "outputs": [
        {
          "output_type": "execute_result",
          "data": {
            "text/plain": [
              "[('Gold',),\n",
              " ('Silver',),\n",
              " ('Silver',),\n",
              " ('Silver',),\n",
              " ('Silver',),\n",
              " ('Bronze',),\n",
              " ('Gold',),\n",
              " ('Gold',),\n",
              " ('Silver',),\n",
              " ('Silver',)]"
            ]
          },
          "metadata": {},
          "execution_count": 29
        }
      ]
    },
    {
      "cell_type": "code",
      "source": [
        "cur.execute(\"SELECT DISTINCT st_categoria FROM registro_passageiros\").fetchall()"
      ],
      "metadata": {
        "colab": {
          "base_uri": "https://localhost:8080/"
        },
        "id": "ZgcpHisD9BTT",
        "outputId": "e1fde78b-b6c3-4f28-b9ef-eceac7134d5a"
      },
      "execution_count": null,
      "outputs": [
        {
          "output_type": "execute_result",
          "data": {
            "text/plain": [
              "[('Gold',), ('Silver',), ('Bronze',)]"
            ]
          },
          "metadata": {},
          "execution_count": 30
        }
      ]
    },
    {
      "cell_type": "markdown",
      "source": [
        "### Resposta sugerida:"
      ],
      "metadata": {
        "id": "HL8Rhg4ExLuk"
      }
    },
    {
      "cell_type": "code",
      "source": [
        "res = cur.execute(\"SELECT DISTINCT st_categoria FROM registro_passageiros\")\n",
        "res.fetchall()"
      ],
      "metadata": {
        "colab": {
          "base_uri": "https://localhost:8080/"
        },
        "id": "Xv7PiHxExQPW",
        "outputId": "e5ed0c46-bbc1-4c7d-e0cb-252f7fb8c4c2"
      },
      "execution_count": null,
      "outputs": [
        {
          "output_type": "execute_result",
          "data": {
            "text/plain": [
              "[('Gold',), ('Silver',), ('Bronze',)]"
            ]
          },
          "metadata": {},
          "execution_count": 37
        }
      ]
    },
    {
      "cell_type": "markdown",
      "source": [
        "## Desafio 2\n",
        "\n",
        "A precificação da SAMBA é a SEGUINTE:\n",
        "\n",
        "\n",
        "*   Silver - R$550.6\n",
        "\n",
        "*   Bronze - R$450.7\n",
        "\n",
        "*   Gold - R$350.2\n",
        "\n",
        "\n",
        "Desenvolva uma consulta que retorne o preço de um voo para cada passageiro de acordo com essas regras:"
      ],
      "metadata": {
        "id": "1yr1jkrSzeBt"
      }
    },
    {
      "cell_type": "code",
      "source": [
        "#Desenvolva sua resposta aqui:\n",
        "cur.execute(\"\"\"\n",
        "SELECT\n",
        "  id_passageiro,\n",
        "  st_categoria,\n",
        "  CASE st_categoria\n",
        "    WHEN 'Silver' THEN 550.6\n",
        "    WHEN 'Bronze' THEN 450.7\n",
        "    WHEN 'Gold' THEN 350.2\n",
        "  END AS float_preco\n",
        "FROM\n",
        "registro_passageiros\n",
        "\"\"\").fetchall()"
      ],
      "metadata": {
        "id": "C8qL74vFzeBu",
        "colab": {
          "base_uri": "https://localhost:8080/"
        },
        "outputId": "0c9473e0-b958-4f1a-9d2c-582c6ccf1116"
      },
      "execution_count": null,
      "outputs": [
        {
          "output_type": "execute_result",
          "data": {
            "text/plain": [
              "[('p1', 'Gold', 350.2),\n",
              " ('p2', 'Silver', 550.6),\n",
              " ('p3', 'Silver', 550.6),\n",
              " ('p4', 'Silver', 550.6),\n",
              " ('p5', 'Silver', 550.6),\n",
              " ('p6', 'Bronze', 450.7),\n",
              " ('p7', 'Gold', 350.2),\n",
              " ('p8', 'Gold', 350.2),\n",
              " ('p9', 'Silver', 550.6),\n",
              " ('p10', 'Silver', 550.6)]"
            ]
          },
          "metadata": {},
          "execution_count": 33
        }
      ]
    },
    {
      "cell_type": "markdown",
      "source": [
        "### Resposta sugerida:"
      ],
      "metadata": {
        "id": "reSY7iYf07c5"
      }
    },
    {
      "cell_type": "code",
      "source": [
        "res = cur.execute(\"\"\"\n",
        "SELECT\n",
        "  id_passageiro,\n",
        "  st_nome,\n",
        "  st_categoria,\n",
        "  CASE st_categoria\n",
        "    WHEN 'Silver' THEN 550.6\n",
        "    WHEN 'Bronze' THEN 450.7\n",
        "    WHEN 'Gold' THEN 350.2\n",
        "  END AS float_preco\n",
        "FROM registro_passageiros\n",
        "\"\"\")\n",
        "res.fetchall()"
      ],
      "metadata": {
        "colab": {
          "base_uri": "https://localhost:8080/",
          "height": 211
        },
        "outputId": "307cb968-4810-496a-db4c-4c7ec46d8850",
        "id": "MVZtgZbc07c5"
      },
      "execution_count": null,
      "outputs": [
        {
          "output_type": "error",
          "ename": "NameError",
          "evalue": "name 'cur' is not defined",
          "traceback": [
            "\u001b[0;31m---------------------------------------------------------------------------\u001b[0m",
            "\u001b[0;31mNameError\u001b[0m                                 Traceback (most recent call last)",
            "\u001b[0;32m<ipython-input-2-d9fd367b1372>\u001b[0m in \u001b[0;36m<cell line: 1>\u001b[0;34m()\u001b[0m\n\u001b[0;32m----> 1\u001b[0;31m res = cur.execute(\"\"\"\n\u001b[0m\u001b[1;32m      2\u001b[0m \u001b[0mSELECT\u001b[0m\u001b[0;34m\u001b[0m\u001b[0;34m\u001b[0m\u001b[0m\n\u001b[1;32m      3\u001b[0m   \u001b[0mid_passageiro\u001b[0m\u001b[0;34m,\u001b[0m\u001b[0;34m\u001b[0m\u001b[0;34m\u001b[0m\u001b[0m\n\u001b[1;32m      4\u001b[0m   \u001b[0mst_nome\u001b[0m\u001b[0;34m,\u001b[0m\u001b[0;34m\u001b[0m\u001b[0;34m\u001b[0m\u001b[0m\n\u001b[1;32m      5\u001b[0m   \u001b[0mst_categoria\u001b[0m\u001b[0;34m,\u001b[0m\u001b[0;34m\u001b[0m\u001b[0;34m\u001b[0m\u001b[0m\n",
            "\u001b[0;31mNameError\u001b[0m: name 'cur' is not defined"
          ]
        }
      ]
    },
    {
      "cell_type": "markdown",
      "source": [
        "## Desafio 3\n",
        "\n",
        "Desenvolva uma consulta que retorne os códigos de refeições com menos de 3 restrições alimentares:\n"
      ],
      "metadata": {
        "id": "QDiY262x2WgM"
      }
    },
    {
      "cell_type": "code",
      "source": [
        "#Desenvolva sua resposta aqui:\n",
        "cur.execute(\"SELECT * FROM registro_alergicos\").fetchall()"
      ],
      "metadata": {
        "id": "zK7sLelr2Wgf",
        "colab": {
          "base_uri": "https://localhost:8080/"
        },
        "outputId": "c2acca93-5b41-45f4-8dcd-8942e35e1b22"
      },
      "execution_count": null,
      "outputs": [
        {
          "output_type": "execute_result",
          "data": {
            "text/plain": [
              "[('r1', 'Vegetariano'),\n",
              " ('r1', 'Vegano'),\n",
              " ('r1', 'Glutem'),\n",
              " ('r2', 'Vegetariano'),\n",
              " ('r2', 'Vegano'),\n",
              " ('r2', 'Glutem'),\n",
              " ('r3', 'Castanhas'),\n",
              " ('r4', 'Lactose'),\n",
              " ('r4', 'Frutos do Mar'),\n",
              " ('r4', 'Vegetariano'),\n",
              " ('r4', 'Vegano'),\n",
              " ('r4', 'Glutem'),\n",
              " ('r5', 'Vegetariano'),\n",
              " ('r5', 'Vegano'),\n",
              " ('r5', 'Glutem'),\n",
              " ('r5', 'Lactose')]"
            ]
          },
          "metadata": {},
          "execution_count": 37
        }
      ]
    },
    {
      "cell_type": "code",
      "source": [
        "cur.execute(\"\"\"\n",
        "SELECT\n",
        "  id_refeicao,\n",
        "  COUNT(st_alergico) AS qtd_restricoes\n",
        "FROM\n",
        "  registro_alergicos\n",
        "GROUP BY id_refeicao\n",
        "\"\"\").fetchall()"
      ],
      "metadata": {
        "colab": {
          "base_uri": "https://localhost:8080/"
        },
        "id": "MSaW35YgE8Jw",
        "outputId": "0af8b2da-a3f3-4c7c-ddf9-61e353069ad6"
      },
      "execution_count": null,
      "outputs": [
        {
          "output_type": "execute_result",
          "data": {
            "text/plain": [
              "[('r1', 3), ('r2', 3), ('r3', 1), ('r4', 5), ('r5', 4)]"
            ]
          },
          "metadata": {},
          "execution_count": 39
        }
      ]
    },
    {
      "cell_type": "code",
      "source": [
        "cur.execute(\"\"\"\n",
        "SELECT\n",
        "  id_refeicao,\n",
        "  COUNT(st_alergico) AS qtd_restricoes\n",
        "FROM\n",
        "  registro_alergicos\n",
        "GROUP BY id_refeicao\n",
        "HAVING qtd_restricoes < 3\n",
        "\"\"\").fetchall()"
      ],
      "metadata": {
        "colab": {
          "base_uri": "https://localhost:8080/"
        },
        "id": "5XyjdjTWF98n",
        "outputId": "122599cb-b637-4bbd-822b-efc74d750909"
      },
      "execution_count": null,
      "outputs": [
        {
          "output_type": "execute_result",
          "data": {
            "text/plain": [
              "[('r3', 1)]"
            ]
          },
          "metadata": {},
          "execution_count": 42
        }
      ]
    },
    {
      "cell_type": "markdown",
      "source": [
        "### Resposta sugerida:"
      ],
      "metadata": {
        "id": "DeQIuXKi2Wgf"
      }
    },
    {
      "cell_type": "code",
      "source": [
        "res = cur.execute(\"\"\"\n",
        "SELECT\n",
        "  id_refeicao,\n",
        "  COUNT(st_alergico) as qtd_restricoes\n",
        "FROM\n",
        "  registro_alergicos\n",
        "GROUP BY\n",
        "  id_refeicao\n",
        "HAVING\n",
        "  qtd_restricoes < 3 OR\n",
        "  qtd_restricoes IS NULL\n",
        "\"\"\")\n",
        "res.fetchall()"
      ],
      "metadata": {
        "colab": {
          "base_uri": "https://localhost:8080/"
        },
        "outputId": "c2861602-b0eb-4a79-d81c-6852fc74c888",
        "id": "bGRqx6OG2Wgg"
      },
      "execution_count": null,
      "outputs": [
        {
          "output_type": "execute_result",
          "data": {
            "text/plain": [
              "[('r3', 1), ('r4', 2)]"
            ]
          },
          "metadata": {},
          "execution_count": 42
        }
      ]
    },
    {
      "cell_type": "markdown",
      "source": [
        "#Trabalhando com Funções Agregadoas\n",
        "\n",
        "A seguir, alguns exercicios serão propostos, usem as seguintes funções para resolvê-los:\n",
        "\n",
        "*   AVG()\n",
        "*   COUNT()\n",
        "*   MAX()\n",
        "*   MIN()\n",
        "*   SUM()\n",
        "\n"
      ],
      "metadata": {
        "id": "5gieF929UYq8"
      }
    },
    {
      "cell_type": "markdown",
      "source": [
        "## Desafio 1\n",
        "\n",
        "Desenvolva uma consulta que retorne o custo médio das refeições da companhia SAMBA:"
      ],
      "metadata": {
        "id": "XJ7i5lwZUYrL"
      }
    },
    {
      "cell_type": "code",
      "source": [
        "#Desenvolva sua resposta aqui:\n",
        "cur.execute(\"SELECT * FROM registro_refeicoes\").fetchall()"
      ],
      "metadata": {
        "id": "GpDNzXWJUYrM",
        "colab": {
          "base_uri": "https://localhost:8080/"
        },
        "outputId": "e280224d-40cb-433a-b5bb-bcdde6e7ed71"
      },
      "execution_count": null,
      "outputs": [
        {
          "output_type": "execute_result",
          "data": {
            "text/plain": [
              "[('r1', 'Frango com Legumes', 20.0),\n",
              " ('r2', 'Picadinho de carne', 25.0),\n",
              " ('r3', 'Salada com castanhas', 15.0),\n",
              " ('r4', 'Risoto de Camarão', 30.0),\n",
              " ('r5', 'Hamburguer Combo', 35.0),\n",
              " ('r6', 'Hamburguer Vegano Combo', 30.0)]"
            ]
          },
          "metadata": {},
          "execution_count": 43
        }
      ]
    },
    {
      "cell_type": "code",
      "source": [
        "cur.execute(\"SELECT AVG(float_custo) FROM registro_refeicoes\").fetchall()"
      ],
      "metadata": {
        "colab": {
          "base_uri": "https://localhost:8080/"
        },
        "id": "NjmVII96ITfK",
        "outputId": "e63e8493-feb7-42a8-f049-d30c4f3ea769"
      },
      "execution_count": null,
      "outputs": [
        {
          "output_type": "execute_result",
          "data": {
            "text/plain": [
              "[(25.833333333333332,)]"
            ]
          },
          "metadata": {},
          "execution_count": 44
        }
      ]
    },
    {
      "cell_type": "code",
      "source": [
        "cur.execute(\"SELECT AVG(DISTINCT float_custo) FROM registro_refeicoes\").fetchall()"
      ],
      "metadata": {
        "colab": {
          "base_uri": "https://localhost:8080/"
        },
        "id": "7tZVYqENIoIU",
        "outputId": "a6c1c69c-b617-48dc-f93a-8cf25a59e7e8"
      },
      "execution_count": null,
      "outputs": [
        {
          "output_type": "execute_result",
          "data": {
            "text/plain": [
              "[(25.0,)]"
            ]
          },
          "metadata": {},
          "execution_count": 46
        }
      ]
    },
    {
      "cell_type": "code",
      "source": [
        "cur.execute(\"\"\"\n",
        "SELECT\n",
        "  AVG(valor)\n",
        "FROM  (\n",
        "  SELECT 20 as valor\n",
        "  UNION ALL\n",
        "  SELECT 20\n",
        "  UNION ALL\n",
        "  SELECT 10\n",
        ")\n",
        "\"\"\").fetchall()"
      ],
      "metadata": {
        "colab": {
          "base_uri": "https://localhost:8080/"
        },
        "id": "gVvMZ_VLI-Dd",
        "outputId": "b2860520-4261-458c-8885-4ac6623bd692"
      },
      "execution_count": null,
      "outputs": [
        {
          "output_type": "execute_result",
          "data": {
            "text/plain": [
              "[(16.666666666666668,)]"
            ]
          },
          "metadata": {},
          "execution_count": 50
        }
      ]
    },
    {
      "cell_type": "markdown",
      "source": [
        "### Resposta sugerida:"
      ],
      "metadata": {
        "id": "-tB6Fi24UYrM"
      }
    },
    {
      "cell_type": "code",
      "source": [
        "res = cur.execute(\"SELECT AVG(float_custo) FROM registro_refeicoes\")\n",
        "res.fetchall()"
      ],
      "metadata": {
        "colab": {
          "base_uri": "https://localhost:8080/"
        },
        "outputId": "fd531ced-25a2-4ef5-fb7f-a62fee3b0f46",
        "id": "A9u09eroUYrM"
      },
      "execution_count": null,
      "outputs": [
        {
          "output_type": "execute_result",
          "data": {
            "text/plain": [
              "[(25.833333333333332,)]"
            ]
          },
          "metadata": {},
          "execution_count": 12
        }
      ]
    },
    {
      "cell_type": "markdown",
      "source": [
        "## Desafio 2\n",
        "\n",
        "Desenvolva uma consulta que retorne a quantidade de refeições da companhia SAMBA:"
      ],
      "metadata": {
        "id": "nyuiuym-VCtb"
      }
    },
    {
      "cell_type": "code",
      "source": [
        "#Desenvolva sua resposta aqui:"
      ],
      "metadata": {
        "id": "VOmOtJVvVCtr"
      },
      "execution_count": null,
      "outputs": []
    },
    {
      "cell_type": "markdown",
      "source": [
        "### Resposta sugerida:"
      ],
      "metadata": {
        "id": "hZQCFZIhVCtr"
      }
    },
    {
      "cell_type": "code",
      "source": [
        "res = cur.execute(\"SELECT COUNT (*) FROM registro_refeicoes\")\n",
        "res.fetchall()"
      ],
      "metadata": {
        "colab": {
          "base_uri": "https://localhost:8080/"
        },
        "outputId": "3845e2a9-7894-45fa-ea09-ec9f0d2218fc",
        "id": "U4iEf08jVCtr"
      },
      "execution_count": null,
      "outputs": [
        {
          "output_type": "execute_result",
          "data": {
            "text/plain": [
              "[(6,)]"
            ]
          },
          "metadata": {},
          "execution_count": 13
        }
      ]
    },
    {
      "cell_type": "markdown",
      "source": [
        "## Desafio 3\n",
        "\n",
        "Desenvolva uma consulta que retorne o custo de refeução mais barato e o mais caro da companhia SAMBA:"
      ],
      "metadata": {
        "id": "100yoRPIVZ9J"
      }
    },
    {
      "cell_type": "code",
      "source": [
        "#Desenvolva sua resposta aqui:"
      ],
      "metadata": {
        "id": "Q-kF69T3VZ9b"
      },
      "execution_count": null,
      "outputs": []
    },
    {
      "cell_type": "markdown",
      "source": [
        "### Resposta sugerida:"
      ],
      "metadata": {
        "id": "jAT3PdILVZ9b"
      }
    },
    {
      "cell_type": "code",
      "source": [
        "res = cur.execute(\"SELECT MAX(float_custo) AS mais_caro, MIN(float_custo) AS mais_barato FROM registro_refeicoes\")\n",
        "res.fetchall()"
      ],
      "metadata": {
        "colab": {
          "base_uri": "https://localhost:8080/"
        },
        "outputId": "0e1eaebb-74fd-42eb-8dd0-0ce0afcd6650",
        "id": "PLaytqQ1VZ9b"
      },
      "execution_count": null,
      "outputs": [
        {
          "output_type": "execute_result",
          "data": {
            "text/plain": [
              "[(35.0, 15.0)]"
            ]
          },
          "metadata": {},
          "execution_count": 17
        }
      ]
    },
    {
      "cell_type": "markdown",
      "source": [
        "## Desafio 4\n",
        "\n",
        "Desenvolva uma consulta que retorne a soma de custos das refeicoes da companhia SAMBA:"
      ],
      "metadata": {
        "id": "cmLKXnu4WUBc"
      }
    },
    {
      "cell_type": "code",
      "source": [
        "#Desenvolva sua resposta aqui:"
      ],
      "metadata": {
        "id": "hM4BCf9oWUBu"
      },
      "execution_count": null,
      "outputs": []
    },
    {
      "cell_type": "markdown",
      "source": [
        "### Resposta sugerida:"
      ],
      "metadata": {
        "id": "8MFWfgW4WUBv"
      }
    },
    {
      "cell_type": "code",
      "source": [
        "res = cur.execute(\"SELECT sum(float_custo) AS custo_total FROM registro_refeicoes\")\n",
        "res.fetchall()"
      ],
      "metadata": {
        "colab": {
          "base_uri": "https://localhost:8080/"
        },
        "outputId": "5e3b0409-2741-4b9c-d10d-520ba2dd3199",
        "id": "hlO5NUv0WUBv"
      },
      "execution_count": null,
      "outputs": [
        {
          "output_type": "execute_result",
          "data": {
            "text/plain": [
              "[(155.0,)]"
            ]
          },
          "metadata": {},
          "execution_count": 18
        }
      ]
    },
    {
      "cell_type": "markdown",
      "source": [
        "#Trabalhando com Uniões\n",
        "\n",
        "A seguir, alguns exercicios serão propostos, usem as seguintes funções para resolvê-los:\n",
        "\n",
        "*   INNER JOIN\n",
        "*   LEFT JOIN\n",
        "*   RIGHT JOIN\n",
        "*   INNER JOIN\n",
        "*   FULL JOIN"
      ],
      "metadata": {
        "id": "uB1UcBFJ3lil"
      }
    },
    {
      "cell_type": "markdown",
      "source": [
        "## Desafio 1\n",
        "\n",
        "Desenvolva uma consulta que retorne uma lista de passageros da SAMBA e suas alergias:"
      ],
      "metadata": {
        "id": "YzKhSAYK3li6"
      }
    },
    {
      "cell_type": "code",
      "source": [
        "#Desenvolva sua resposta aqui:"
      ],
      "metadata": {
        "id": "mBcZqza73li6"
      },
      "execution_count": null,
      "outputs": []
    },
    {
      "cell_type": "markdown",
      "source": [
        "### Resposta sugerida:"
      ],
      "metadata": {
        "id": "CtWK26Yh3li7"
      }
    },
    {
      "cell_type": "code",
      "source": [
        "res = cur.execute(\"\"\"\n",
        "SELECT\n",
        "  rp.id_passageiro,\n",
        "  st_nome,\n",
        "  st_alergia_alimentar\n",
        "FROM\n",
        "  registro_passageiros rp\n",
        "INNER JOIN\n",
        "  restricao_alimentar ra\n",
        "  ON rp.id_passageiro = ra.id_passageiro\n",
        "WHERE st_alergia_alimentar IS NOT NULL\n",
        "\"\"\")\n",
        "res.fetchall()"
      ],
      "metadata": {
        "colab": {
          "base_uri": "https://localhost:8080/"
        },
        "outputId": "0032a2ad-b837-488a-8d0f-70a1361c61b1",
        "id": "niFDzYZR3li7"
      },
      "execution_count": null,
      "outputs": [
        {
          "output_type": "execute_result",
          "data": {
            "text/plain": [
              "[('p2', 'Mario Marques', 'Lactose'),\n",
              " ('p3', 'Maria Marques', 'Lactose'),\n",
              " ('p7', 'Volverine Valadares', 'Glutem'),\n",
              " ('p7', 'Volverine Valadares', 'Frutos do mar'),\n",
              " ('p6', 'Saulo Sauro', 'Castanhas')]"
            ]
          },
          "metadata": {},
          "execution_count": 50
        }
      ]
    },
    {
      "cell_type": "markdown",
      "source": [
        "## Desafio 2\n",
        "\n",
        "Desenvolva uma consulta que retorne uma lista de passageros da SAMBA e suas restrições alimentares de forma diferente da anterior:"
      ],
      "metadata": {
        "id": "YvafVj563li8"
      }
    },
    {
      "cell_type": "code",
      "source": [
        "#Desenvolva sua resposta aqui:"
      ],
      "metadata": {
        "id": "myumKeIl3li8"
      },
      "execution_count": null,
      "outputs": []
    },
    {
      "cell_type": "markdown",
      "source": [
        "### Resposta sugerida:"
      ],
      "metadata": {
        "id": "jDSw54j93li9"
      }
    },
    {
      "cell_type": "code",
      "source": [
        "res = cur.execute(\"\"\"\n",
        "SELECT\n",
        "  rp.id_passageiro,\n",
        "  st_nome,\n",
        "  st_restricao_alimentar\n",
        "FROM\n",
        "  registro_passageiros rp\n",
        "LEFT JOIN\n",
        "  restricao_alimentar ra\n",
        "  ON rp.id_passageiro = ra.id_passageiro\n",
        "WHERE st_restricao_alimentar IS NOT NULL\n",
        "\"\"\")\n",
        "res.fetchall()"
      ],
      "metadata": {
        "colab": {
          "base_uri": "https://localhost:8080/"
        },
        "outputId": "a2a17abb-e32e-404c-e692-2c1fdb29dbd9",
        "id": "dlSNrUgm3li_"
      },
      "execution_count": null,
      "outputs": [
        {
          "output_type": "execute_result",
          "data": {
            "text/plain": [
              "[('p1', 'Ana Antunes', 'Vegano'),\n",
              " ('p8', 'Waldisney Washington', 'Vegeratiano'),\n",
              " ('p6', 'Saulo Sauro', 'Vegetariano')]"
            ]
          },
          "metadata": {},
          "execution_count": 51
        }
      ]
    },
    {
      "cell_type": "markdown",
      "source": [
        "## Desafio 3\n",
        "\n",
        "Desenvolva uma consulta que retorne todas a alergias e restrições dos passageiros:"
      ],
      "metadata": {
        "id": "2fA04F7y3li_"
      }
    },
    {
      "cell_type": "code",
      "source": [
        "#Desenvolva sua resposta aqui:"
      ],
      "metadata": {
        "id": "-R15u60n3ljA"
      },
      "execution_count": null,
      "outputs": []
    },
    {
      "cell_type": "markdown",
      "source": [
        "### Resposta sugerida:"
      ],
      "metadata": {
        "id": "yXO72dlw3ljA"
      }
    },
    {
      "cell_type": "code",
      "source": [
        "res = cur.execute(\"\"\"\n",
        "SELECT\n",
        "  rp.id_passageiro,\n",
        "  st_nome,\n",
        "  st_alergia_alimentar\n",
        "FROM\n",
        "  registro_passageiros rp\n",
        "INNER JOIN\n",
        "  restricao_alimentar ra\n",
        "  ON rp.id_passageiro = ra.id_passageiro\n",
        "WHERE st_alergia_alimentar IS NOT NULL\n",
        "\n",
        "UNION ALL\n",
        "\n",
        "SELECT\n",
        "  rp.id_passageiro,\n",
        "  st_nome,\n",
        "  st_restricao_alimentar\n",
        "FROM\n",
        "  registro_passageiros rp\n",
        "LEFT JOIN\n",
        "  restricao_alimentar ra\n",
        "  ON rp.id_passageiro = ra.id_passageiro\n",
        "WHERE st_restricao_alimentar IS NOT NULL\n",
        "\"\"\")\n",
        "res.fetchall()\n"
      ],
      "metadata": {
        "colab": {
          "base_uri": "https://localhost:8080/"
        },
        "outputId": "be47e869-f6fa-40c4-f25f-9971e6492406",
        "id": "kBUAlhsy3ljB"
      },
      "execution_count": null,
      "outputs": [
        {
          "output_type": "execute_result",
          "data": {
            "text/plain": [
              "[('p2', 'Mario Marques', 'Lactose'),\n",
              " ('p3', 'Maria Marques', 'Lactose'),\n",
              " ('p7', 'Volverine Valadares', 'Glutem'),\n",
              " ('p7', 'Volverine Valadares', 'Frutos do mar'),\n",
              " ('p6', 'Saulo Sauro', 'Castanhas'),\n",
              " ('p1', 'Ana Antunes', 'Vegano'),\n",
              " ('p8', 'Waldisney Washington', 'Vegetariano'),\n",
              " ('p6', 'Saulo Sauro', 'Vegetariano')]"
            ]
          },
          "metadata": {},
          "execution_count": 52
        }
      ]
    },
    {
      "cell_type": "markdown",
      "source": [
        "#Trabalhando com consultas complexas e vistas\n",
        "\n",
        "A seguir, alguns exercicios serão propostos, usem as seguintes funções para resolvê-los:\n",
        "\n",
        "*   CREATE VIEW\n",
        "*   DROP VIEW\n"
      ],
      "metadata": {
        "id": "MTfE7hbCf6Gm"
      }
    },
    {
      "cell_type": "markdown",
      "source": [
        "## Desafio 1\n",
        "\n",
        "Desenvolva uma consulta que retorne uma lista de passageros da SAMBA e suas alergias e salve ela em uma view chamada passageiros_marcacao_alergia, indicando que alergias devem \"exclusão\" e restrições \"inclusão\":"
      ],
      "metadata": {
        "id": "S27rvECwf6G2"
      }
    },
    {
      "cell_type": "code",
      "source": [
        "#Desenvolva sua resposta aqui:"
      ],
      "metadata": {
        "id": "K930fo0kf6G2"
      },
      "execution_count": null,
      "outputs": []
    },
    {
      "cell_type": "code",
      "source": [
        "cur.execute(\"\"\"\n",
        "SELECT\n",
        "  AVG(numero)\n",
        "FROM\n",
        "(\n",
        "SELECT 6 as numero\n",
        "UNION ALL\n",
        "SELECT 12\n",
        "UNION ALL\n",
        "SELECT 6\n",
        ")\n",
        "\"\"\").fetchall()"
      ],
      "metadata": {
        "colab": {
          "base_uri": "https://localhost:8080/"
        },
        "id": "Io-ajCUZ4-8u",
        "outputId": "8f7676b5-0c0a-4dbd-d7f1-2ec14a8f0cb2"
      },
      "execution_count": null,
      "outputs": [
        {
          "output_type": "execute_result",
          "data": {
            "text/plain": [
              "[(6,), (12,), (6,)]"
            ]
          },
          "metadata": {},
          "execution_count": 14
        }
      ]
    },
    {
      "cell_type": "markdown",
      "source": [
        "### Resposta sugerida:"
      ],
      "metadata": {
        "id": "gzBM2OMYf6G2"
      }
    },
    {
      "cell_type": "code",
      "source": [
        "cur.execute(\"\"\"\n",
        "CREATE VIEW passageiros_marcacao_alergia\n",
        "AS\n",
        "  SELECT\n",
        "    rp.id_passageiro,\n",
        "    st_nome,\n",
        "    st_alergia_alimentar\n",
        "  FROM\n",
        "    registro_passageiros rp\n",
        "  INNER JOIN\n",
        "    restricao_alimentar ra\n",
        "    ON rp.id_passageiro = ra.id_passageiro\n",
        "  WHERE st_alergia_alimentar IS NOT NULL\n",
        "\n",
        "  UNION ALL\n",
        "\n",
        "  SELECT\n",
        "    rp.id_passageiro,\n",
        "    st_nome,\n",
        "    st_restricao_alimentar\n",
        "  FROM\n",
        "    registro_passageiros rp\n",
        "  LEFT JOIN\n",
        "    restricao_alimentar ra\n",
        "    ON rp.id_passageiro = ra.id_passageiro\n",
        "  WHERE st_restricao_alimentar IS NOT NULL\n",
        "\"\"\")\n",
        "\n",
        "res = cur.execute(\"SELECT * FROM passageiros_marcacao_alergia ORDER BY id_passageiro\")\n",
        "res.fetchall()"
      ],
      "metadata": {
        "colab": {
          "base_uri": "https://localhost:8080/"
        },
        "outputId": "75e533ff-19a4-4ed2-cf55-2362d6178f7d",
        "id": "1e54TDaof6G3"
      },
      "execution_count": null,
      "outputs": [
        {
          "output_type": "execute_result",
          "data": {
            "text/plain": [
              "[('p1', 'Ana Antunes', 'Vegano'),\n",
              " ('p2', 'Mario Marques', 'Lactose'),\n",
              " ('p3', 'Maria Marques', 'Lactose'),\n",
              " ('p4', 'Pietro Palmeira', 'Frutos do Mar'),\n",
              " ('p4', 'Pietro Palmeira', 'Castanhas'),\n",
              " ('p6', 'Saulo Sauro', 'Castanhas'),\n",
              " ('p6', 'Saulo Sauro', 'Vegetariano'),\n",
              " ('p7', 'Volverine Valadares', 'Glutem'),\n",
              " ('p7', 'Volverine Valadares', 'Frutos do Mar'),\n",
              " ('p8', 'Waldisney Washington', 'Vegetariano')]"
            ]
          },
          "metadata": {},
          "execution_count": 40
        }
      ]
    },
    {
      "cell_type": "markdown",
      "source": [
        "## Desafio 2\n",
        "\n",
        "Desenvolva uma consulta que retorne uma lista de refeições oferecidas pela Companhia da SAMBA e seus apontamentos alergicos e salve ela em uma view chamada refeicoes_marcacao_alergia:"
      ],
      "metadata": {
        "id": "vEsoUtKZf6G3"
      }
    },
    {
      "cell_type": "code",
      "source": [
        "#Desenvolva sua resposta aqui:"
      ],
      "metadata": {
        "id": "mdwCGvugf6G3"
      },
      "execution_count": null,
      "outputs": []
    },
    {
      "cell_type": "markdown",
      "source": [
        "### Resposta sugerida:"
      ],
      "metadata": {
        "id": "vDkNKMoff6G3"
      }
    },
    {
      "cell_type": "code",
      "source": [
        "cur.execute(\"\"\"\n",
        "CREATE VIEW refeicoes_marcacao_alergia\n",
        "AS\n",
        "  SELECT\n",
        "    rr.id_refeicao,\n",
        "    st_nome,\n",
        "    st_alergico\n",
        "  FROM\n",
        "    registro_refeicoes rr\n",
        "  LEFT JOIN\n",
        "    registro_alergicos ra\n",
        "    ON rr.id_refeicao = ra.id_refeicao\n",
        "\n",
        "\"\"\")\n",
        "\n",
        "res = cur.execute(\"SELECT * FROM refeicoes_marcacao_alergia\")\n",
        "res.fetchall()"
      ],
      "metadata": {
        "colab": {
          "base_uri": "https://localhost:8080/"
        },
        "outputId": "0bc17fca-17e1-4bca-a1f7-d3ff8a885f0d",
        "id": "JzyGV06of6G3"
      },
      "execution_count": null,
      "outputs": [
        {
          "output_type": "execute_result",
          "data": {
            "text/plain": [
              "[('r1', 'Frango com Legumes', 'Glutem'),\n",
              " ('r1', 'Frango com Legumes', 'Vegano'),\n",
              " ('r1', 'Frango com Legumes', 'Vegetariano'),\n",
              " ('r2', 'Picadinho de carne', 'Glutem'),\n",
              " ('r2', 'Picadinho de carne', 'Vegano'),\n",
              " ('r2', 'Picadinho de carne', 'Vegetariano'),\n",
              " ('r3', 'Salada com castanhas', 'Castanhas'),\n",
              " ('r4', 'Risoto de Camarão', 'Frutos do Mar'),\n",
              " ('r4', 'Risoto de Camarão', 'Glutem'),\n",
              " ('r4', 'Risoto de Camarão', 'Lactose'),\n",
              " ('r4', 'Risoto de Camarão', 'Vegano'),\n",
              " ('r4', 'Risoto de Camarão', 'Vegetariano'),\n",
              " ('r5', 'Hamburguer Combo', 'Glutem'),\n",
              " ('r5', 'Hamburguer Combo', 'Lactose'),\n",
              " ('r5', 'Hamburguer Combo', 'Vegano'),\n",
              " ('r5', 'Hamburguer Combo', 'Vegetariano'),\n",
              " ('r6', 'Hamburguer Vegano Combo', None)]"
            ]
          },
          "metadata": {},
          "execution_count": 16
        }
      ]
    },
    {
      "cell_type": "markdown",
      "source": [
        "## Desafio 3\n",
        "\n",
        "Desenvolva uma consulta que retorne o menu possível para cada passageiro, levando em consideração suas restrições:"
      ],
      "metadata": {
        "id": "2yzkB6nrf6G4"
      }
    },
    {
      "cell_type": "code",
      "source": [
        "#Desenvolva sua resposta aqui:"
      ],
      "metadata": {
        "id": "hyFBgpscf6G4"
      },
      "execution_count": null,
      "outputs": []
    },
    {
      "cell_type": "markdown",
      "source": [
        "### Resposta sugerida:"
      ],
      "metadata": {
        "id": "Yf-QpVAnf6G4"
      }
    },
    {
      "cell_type": "code",
      "source": [
        "res = cur.execute(\"\"\"\n",
        "\n",
        "  SELECT DISTINCT\n",
        "    id_passageiro,\n",
        "    pma.st_nome AS st_nome_passageiro,\n",
        "    id_refeicao,\n",
        "    rma.st_nome AS st_nome_refeicao\n",
        "  FROM\n",
        "    passageiros_marcacao_alergia pma\n",
        "  LEFT JOIN\n",
        "    refeicoes_marcacao_alergia rma\n",
        "    ON pma.st_alergia_alimentar = rma.st_alergico\n",
        "  ORDER BY id_passageiro, id_refeicao\n",
        "\"\"\")\n",
        "\n",
        "\n",
        "res.fetchall()\n"
      ],
      "metadata": {
        "colab": {
          "base_uri": "https://localhost:8080/"
        },
        "outputId": "6585dab6-8643-4deb-b0ff-cfec6bc15902",
        "id": "3b-LULW2f6G4"
      },
      "execution_count": null,
      "outputs": [
        {
          "output_type": "execute_result",
          "data": {
            "text/plain": [
              "[('p1', 'Ana Antunes', 'r1', 'Frango com Legumes'),\n",
              " ('p1', 'Ana Antunes', 'r2', 'Picadinho de carne'),\n",
              " ('p1', 'Ana Antunes', 'r4', 'Risoto de Camarão'),\n",
              " ('p1', 'Ana Antunes', 'r5', 'Hamburguer Combo'),\n",
              " ('p2', 'Mario Marques', 'r4', 'Risoto de Camarão'),\n",
              " ('p2', 'Mario Marques', 'r5', 'Hamburguer Combo'),\n",
              " ('p3', 'Maria Marques', 'r4', 'Risoto de Camarão'),\n",
              " ('p3', 'Maria Marques', 'r5', 'Hamburguer Combo'),\n",
              " ('p4', 'Pietro Palmeira', None, None),\n",
              " ('p4', 'Pietro Palmeira', 'r3', 'Salada com castanhas'),\n",
              " ('p6', 'Saulo Sauro', 'r1', 'Frango com Legumes'),\n",
              " ('p6', 'Saulo Sauro', 'r2', 'Picadinho de carne'),\n",
              " ('p6', 'Saulo Sauro', 'r3', 'Salada com castanhas'),\n",
              " ('p6', 'Saulo Sauro', 'r4', 'Risoto de Camarão'),\n",
              " ('p6', 'Saulo Sauro', 'r5', 'Hamburguer Combo'),\n",
              " ('p7', 'Volverine Valadares', None, None),\n",
              " ('p7', 'Volverine Valadares', 'r1', 'Frango com Legumes'),\n",
              " ('p7', 'Volverine Valadares', 'r2', 'Picadinho de carne'),\n",
              " ('p7', 'Volverine Valadares', 'r4', 'Risoto de Camarão'),\n",
              " ('p7', 'Volverine Valadares', 'r5', 'Hamburguer Combo'),\n",
              " ('p8', 'Waldisney Washington', 'r1', 'Frango com Legumes'),\n",
              " ('p8', 'Waldisney Washington', 'r2', 'Picadinho de carne'),\n",
              " ('p8', 'Waldisney Washington', 'r4', 'Risoto de Camarão'),\n",
              " ('p8', 'Waldisney Washington', 'r5', 'Hamburguer Combo')]"
            ]
          },
          "metadata": {},
          "execution_count": 178
        }
      ]
    },
    {
      "cell_type": "markdown",
      "source": [
        "#Desafio extra\n",
        "\n",
        "A seguir, alguns exercicios serão propostos, usem tudo que aprendeu nessa aula e na anterior para respondê-las."
      ],
      "metadata": {
        "id": "X6bbuGLXgCYB"
      }
    },
    {
      "cell_type": "markdown",
      "source": [
        "## Desafio\n",
        "\n",
        "Desenvolva uma consulta que retorne uma lista de menus possíveis para cada passageiro:"
      ],
      "metadata": {
        "id": "-wfqePT9gCYo"
      }
    },
    {
      "cell_type": "code",
      "source": [
        "#Desenvolva sua resposta aqui:"
      ],
      "metadata": {
        "id": "4ExWbxhPgCYo"
      },
      "execution_count": null,
      "outputs": []
    },
    {
      "cell_type": "markdown",
      "source": [
        "### Resposta sugerida:"
      ],
      "metadata": {
        "id": "_FTjUZnngCYo"
      }
    },
    {
      "cell_type": "code",
      "source": [
        "#Observar o resultado completo\n",
        "res = cur.execute(\"\"\"\n",
        "  SELECT DISTINCT\n",
        "    *\n",
        "  FROM\n",
        "    passageiros_marcacao_alergia pma\n",
        "  LEFT JOIN\n",
        "    refeicoes_marcacao_alergia rma\n",
        "    ON pma.st_alergia_alimentar = rma.st_alergico\n",
        "    OR pma.st_alergia_alimentar <> rma.st_alergico\n",
        "    OR rma.st_alergico IS NULL\n",
        "  WHERE id_passageiro = 'p1'\n",
        "\"\"\")\n",
        "res.fetchall()"
      ],
      "metadata": {
        "colab": {
          "base_uri": "https://localhost:8080/"
        },
        "outputId": "28985de9-6712-4180-82a0-3cc6027b5ef7",
        "id": "QcgQGjYJgCYo"
      },
      "execution_count": null,
      "outputs": [
        {
          "output_type": "execute_result",
          "data": {
            "text/plain": [
              "[('p1', 'Ana Antunes', 'Vegano', 'r1', 'Frango com Legumes', 'Glutem'),\n",
              " ('p1', 'Ana Antunes', 'Vegano', 'r1', 'Frango com Legumes', 'Vegano'),\n",
              " ('p1', 'Ana Antunes', 'Vegano', 'r1', 'Frango com Legumes', 'Vegetariano'),\n",
              " ('p1', 'Ana Antunes', 'Vegano', 'r2', 'Picadinho de carne', 'Glutem'),\n",
              " ('p1', 'Ana Antunes', 'Vegano', 'r2', 'Picadinho de carne', 'Vegano'),\n",
              " ('p1', 'Ana Antunes', 'Vegano', 'r2', 'Picadinho de carne', 'Vegetariano'),\n",
              " ('p1', 'Ana Antunes', 'Vegano', 'r3', 'Salada com castanhas', 'Castanhas'),\n",
              " ('p1', 'Ana Antunes', 'Vegano', 'r4', 'Risoto de Camarão', 'Frutos do Mar'),\n",
              " ('p1', 'Ana Antunes', 'Vegano', 'r4', 'Risoto de Camarão', 'Glutem'),\n",
              " ('p1', 'Ana Antunes', 'Vegano', 'r4', 'Risoto de Camarão', 'Lactose'),\n",
              " ('p1', 'Ana Antunes', 'Vegano', 'r4', 'Risoto de Camarão', 'Vegano'),\n",
              " ('p1', 'Ana Antunes', 'Vegano', 'r4', 'Risoto de Camarão', 'Vegetariano'),\n",
              " ('p1', 'Ana Antunes', 'Vegano', 'r5', 'Hamburguer Combo', 'Glutem'),\n",
              " ('p1', 'Ana Antunes', 'Vegano', 'r5', 'Hamburguer Combo', 'Lactose'),\n",
              " ('p1', 'Ana Antunes', 'Vegano', 'r5', 'Hamburguer Combo', 'Vegano'),\n",
              " ('p1', 'Ana Antunes', 'Vegano', 'r5', 'Hamburguer Combo', 'Vegetariano'),\n",
              " ('p1', 'Ana Antunes', 'Vegano', 'r6', 'Hamburguer Vegano Combo', None)]"
            ]
          },
          "metadata": {},
          "execution_count": 19
        }
      ]
    },
    {
      "cell_type": "markdown",
      "source": [
        "Notei que assim, poderia marcar quando a refeição é alérgica ou não, sendo assim, segui da seguite forma:"
      ],
      "metadata": {
        "id": "vNUgeZr4Ocl-"
      }
    },
    {
      "cell_type": "code",
      "source": [
        "#Observar o resultado completo\n",
        "res = cur.execute(\"\"\"\n",
        "  SELECT DISTINCT\n",
        "    *,\n",
        "    CASE\n",
        "      WHEN rma.st_alergico = pma.st_alergia_alimentar THEN 1\n",
        "      WHEN rma.st_alergico IS NULL THEN 0\n",
        "      ELSE 0\n",
        "    END AS in_contra_indicacao\n",
        "  FROM\n",
        "    passageiros_marcacao_alergia pma\n",
        "  LEFT JOIN\n",
        "    refeicoes_marcacao_alergia rma\n",
        "    ON pma.st_alergia_alimentar = rma.st_alergico\n",
        "    OR pma.st_alergia_alimentar <> rma.st_alergico\n",
        "    OR rma.st_alergico IS NULL\n",
        "  WHERE id_passageiro = 'p1'\n",
        "  ORDER BY id_passageiro, id_refeicao\n",
        "\"\"\")\n",
        "res.fetchall()"
      ],
      "metadata": {
        "colab": {
          "base_uri": "https://localhost:8080/"
        },
        "outputId": "90e04382-fbc4-4f21-bd4c-6a4f75629bc7",
        "id": "G0EqtkrgNCn1"
      },
      "execution_count": null,
      "outputs": [
        {
          "output_type": "execute_result",
          "data": {
            "text/plain": [
              "[('p1', 'Ana Antunes', 'Vegano', 'r1', 'Frango com Legumes', 'Glutem', 0),\n",
              " ('p1', 'Ana Antunes', 'Vegano', 'r1', 'Frango com Legumes', 'Vegano', 1),\n",
              " ('p1', 'Ana Antunes', 'Vegano', 'r1', 'Frango com Legumes', 'Vegetariano', 0),\n",
              " ('p1', 'Ana Antunes', 'Vegano', 'r2', 'Picadinho de carne', 'Glutem', 0),\n",
              " ('p1', 'Ana Antunes', 'Vegano', 'r2', 'Picadinho de carne', 'Vegano', 1),\n",
              " ('p1', 'Ana Antunes', 'Vegano', 'r2', 'Picadinho de carne', 'Vegetariano', 0),\n",
              " ('p1', 'Ana Antunes', 'Vegano', 'r3', 'Salada com castanhas', 'Castanhas', 0),\n",
              " ('p1',\n",
              "  'Ana Antunes',\n",
              "  'Vegano',\n",
              "  'r4',\n",
              "  'Risoto de Camarão',\n",
              "  'Frutos do Mar',\n",
              "  0),\n",
              " ('p1', 'Ana Antunes', 'Vegano', 'r4', 'Risoto de Camarão', 'Glutem', 0),\n",
              " ('p1', 'Ana Antunes', 'Vegano', 'r4', 'Risoto de Camarão', 'Lactose', 0),\n",
              " ('p1', 'Ana Antunes', 'Vegano', 'r4', 'Risoto de Camarão', 'Vegano', 1),\n",
              " ('p1', 'Ana Antunes', 'Vegano', 'r4', 'Risoto de Camarão', 'Vegetariano', 0),\n",
              " ('p1', 'Ana Antunes', 'Vegano', 'r5', 'Hamburguer Combo', 'Glutem', 0),\n",
              " ('p1', 'Ana Antunes', 'Vegano', 'r5', 'Hamburguer Combo', 'Lactose', 0),\n",
              " ('p1', 'Ana Antunes', 'Vegano', 'r5', 'Hamburguer Combo', 'Vegano', 1),\n",
              " ('p1', 'Ana Antunes', 'Vegano', 'r5', 'Hamburguer Combo', 'Vegetariano', 0),\n",
              " ('p1', 'Ana Antunes', None, 'r6', 'Hamburguer Vegano Combo', None, 0),\n",
              " ('p1', 'Ana Antunes', 'Vegano', 'r6', 'Hamburguer Vegano Combo', None, 0)]"
            ]
          },
          "metadata": {},
          "execution_count": 34
        }
      ]
    },
    {
      "cell_type": "markdown",
      "source": [
        "Satisfeita com minha marcação, segui para o agrupamento:"
      ],
      "metadata": {
        "id": "OO_vFkf6OoKD"
      }
    },
    {
      "cell_type": "code",
      "source": [
        "#Observar o resultado completo\n",
        "res = cur.execute(\"\"\"\n",
        "  SELECT DISTINCT\n",
        "    id_passageiro,\n",
        "    pma.st_nome AS st_nome_passageiro,\n",
        "    id_refeicao,\n",
        "    rma.st_nome AS st_nome_refeicao,\n",
        "    MAX(CASE\n",
        "      WHEN rma.st_alergico = pma.st_alergia_alimentar THEN 1\n",
        "      WHEN rma.st_alergico IS NULL THEN 0\n",
        "      ELSE 0\n",
        "    END ) AS in_contra_indicacao\n",
        "  FROM\n",
        "    passageiros_marcacao_alergia pma\n",
        "  LEFT JOIN\n",
        "    refeicoes_marcacao_alergia rma\n",
        "    ON pma.st_alergia_alimentar = rma.st_alergico\n",
        "    OR pma.st_alergia_alimentar <> rma.st_alergico\n",
        "    OR rma.st_alergico IS NULL\n",
        "  WHERE id_passageiro = 'p1'\n",
        "  GROUP BY id_passageiro, st_nome_passageiro, id_refeicao, st_nome_refeicao\n",
        "  ORDER BY id_passageiro, id_refeicao\n",
        "\"\"\")\n",
        "res.fetchall()"
      ],
      "metadata": {
        "colab": {
          "base_uri": "https://localhost:8080/"
        },
        "outputId": "22113932-16b7-4b0e-a283-76d6ef6ca80e",
        "id": "Olh2iQh6Nh8F"
      },
      "execution_count": null,
      "outputs": [
        {
          "output_type": "execute_result",
          "data": {
            "text/plain": [
              "[('p1', 'Ana Antunes', 'r1', 'Frango com Legumes', 1),\n",
              " ('p1', 'Ana Antunes', 'r2', 'Picadinho de carne', 1),\n",
              " ('p1', 'Ana Antunes', 'r3', 'Salada com castanhas', 0),\n",
              " ('p1', 'Ana Antunes', 'r4', 'Risoto de Camarão', 1),\n",
              " ('p1', 'Ana Antunes', 'r5', 'Hamburguer Combo', 1),\n",
              " ('p1', 'Ana Antunes', 'r6', 'Hamburguer Vegano Combo', 0)]"
            ]
          },
          "metadata": {},
          "execution_count": 159
        }
      ]
    },
    {
      "cell_type": "markdown",
      "source": [
        "Após o resultado seguido, começei a validar os outros passageiros e descobri um problema:"
      ],
      "metadata": {
        "id": "RPNf7pATOzTy"
      }
    },
    {
      "cell_type": "code",
      "source": [
        "#Observar o resultado completo\n",
        "res = cur.execute(\"\"\"\n",
        "  SELECT DISTINCT\n",
        "    id_passageiro,\n",
        "    pma.st_nome AS st_nome_passageiro,\n",
        "    id_refeicao,\n",
        "    rma.st_nome AS st_nome_refeicao,\n",
        "    MAX(CASE\n",
        "      WHEN rma.st_alergico = pma.st_alergia_alimentar THEN 1\n",
        "      WHEN rma.st_alergico IS NULL THEN 0\n",
        "      ELSE 0\n",
        "    END ) AS in_contra_indicacao\n",
        "  FROM\n",
        "    passageiros_marcacao_alergia pma\n",
        "  LEFT JOIN\n",
        "    refeicoes_marcacao_alergia rma\n",
        "    ON pma.st_alergia_alimentar = rma.st_alergico\n",
        "    OR pma.st_alergia_alimentar <> rma.st_alergico\n",
        "    OR rma.st_alergico IS NULL\n",
        "  WHERE id_passageiro = 'p5'\n",
        "  GROUP BY id_passageiro, st_nome_passageiro, id_refeicao, st_nome_refeicao\n",
        "  ORDER BY id_passageiro, id_refeicao\n",
        "\"\"\")\n",
        "res.fetchall()"
      ],
      "metadata": {
        "colab": {
          "base_uri": "https://localhost:8080/"
        },
        "outputId": "1d948d1a-cfb3-420c-a80f-411911fd0020",
        "id": "1pK22rkrOKCC"
      },
      "execution_count": null,
      "outputs": [
        {
          "output_type": "execute_result",
          "data": {
            "text/plain": [
              "[]"
            ]
          },
          "metadata": {},
          "execution_count": 41
        }
      ]
    },
    {
      "cell_type": "code",
      "source": [
        "#Apagar a vista sem o dado\n",
        "cur.execute(\"DROP VIEW passageiros_marcacao_alergia\")"
      ],
      "metadata": {
        "colab": {
          "base_uri": "https://localhost:8080/"
        },
        "id": "-BblNxHiOT3-",
        "outputId": "0691b127-7c65-4c06-b7f5-6a748eb3dd0d"
      },
      "execution_count": null,
      "outputs": [
        {
          "output_type": "execute_result",
          "data": {
            "text/plain": [
              "<sqlite3.Cursor at 0x7c26c52b1fc0>"
            ]
          },
          "metadata": {},
          "execution_count": 39
        }
      ]
    },
    {
      "cell_type": "markdown",
      "source": [
        "Eu recupero a view de criação e tiro as clausulas de NULL:"
      ],
      "metadata": {
        "id": "EvjKYqzQSbdF"
      }
    },
    {
      "cell_type": "code",
      "source": [
        "res = cur.execute(\"\"\"\n",
        "\n",
        "  SELECT\n",
        "    rp.id_passageiro,\n",
        "    st_nome,\n",
        "    st_alergia_alimentar\n",
        "  FROM\n",
        "    registro_passageiros rp\n",
        "  INNER JOIN\n",
        "    restricao_alimentar ra\n",
        "    ON rp.id_passageiro = ra.id_passageiro\n",
        "  --WHERE st_alergia_alimentar IS NOT NULL\n",
        "\n",
        "  UNION ALL\n",
        "\n",
        "  SELECT\n",
        "    rp.id_passageiro,\n",
        "    st_nome,\n",
        "    st_restricao_alimentar\n",
        "  FROM\n",
        "    registro_passageiros rp\n",
        "  LEFT JOIN\n",
        "    restricao_alimentar ra\n",
        "    ON rp.id_passageiro = ra.id_passageiro\n",
        "  --WHERE st_restricao_alimentar IS NOT NULL\n",
        "\n",
        "\n",
        "\"\"\")\n",
        "\n",
        "res.fetchall()"
      ],
      "metadata": {
        "colab": {
          "base_uri": "https://localhost:8080/"
        },
        "id": "QLZAurolRIpr",
        "outputId": "53aec945-9d0b-4296-f861-65672b21ad2c"
      },
      "execution_count": null,
      "outputs": [
        {
          "output_type": "execute_result",
          "data": {
            "text/plain": [
              "[('p2', 'Mario Marques', 'Lactose'),\n",
              " ('p3', 'Maria Marques', 'Lactose'),\n",
              " ('p4', 'Pietro Palmeira', 'Frutos do Mar'),\n",
              " ('p4', 'Pietro Palmeira', 'Castanhas'),\n",
              " ('p7', 'Volverine Valadares', 'Glutem'),\n",
              " ('p7', 'Volverine Valadares', 'Frutos do Mar'),\n",
              " ('p1', 'Ana Antunes', None),\n",
              " ('p8', 'Waldisney Washington', None),\n",
              " ('p6', 'Saulo Sauro', 'Castanhas'),\n",
              " ('p1', 'Ana Antunes', 'Vegano'),\n",
              " ('p2', 'Mario Marques', None),\n",
              " ('p3', 'Maria Marques', None),\n",
              " ('p4', 'Pietro Palmeira', None),\n",
              " ('p4', 'Pietro Palmeira', None),\n",
              " ('p5', 'Pamela Pluma Palmeira', None),\n",
              " ('p6', 'Saulo Sauro', 'Vegetariano'),\n",
              " ('p7', 'Volverine Valadares', None),\n",
              " ('p7', 'Volverine Valadares', None),\n",
              " ('p8', 'Waldisney Washington', 'Vegetariano'),\n",
              " ('p9', 'Daniel Dimes', None),\n",
              " ('p10', 'Daniela Dimes', None)]"
            ]
          },
          "metadata": {},
          "execution_count": 35
        }
      ]
    },
    {
      "cell_type": "code",
      "source": [
        "cur.execute(\"\"\"\n",
        "CREATE VIEW passageiros_marcacao_alergia\n",
        "AS\n",
        "  SELECT\n",
        "    rp.id_passageiro,\n",
        "    st_nome,\n",
        "    st_alergia_alimentar\n",
        "  FROM\n",
        "    registro_passageiros rp\n",
        "  INNER JOIN\n",
        "    restricao_alimentar ra\n",
        "    ON rp.id_passageiro = ra.id_passageiro\n",
        "\n",
        "  UNION ALL\n",
        "\n",
        "  SELECT\n",
        "    rp.id_passageiro,\n",
        "    st_nome,\n",
        "    st_restricao_alimentar\n",
        "  FROM\n",
        "    registro_passageiros rp\n",
        "  LEFT JOIN\n",
        "    restricao_alimentar ra\n",
        "    ON rp.id_passageiro = ra.id_passageiro\n",
        "\n",
        "\"\"\")\n",
        "\n",
        "res = cur.execute(\"SELECT * FROM passageiros_marcacao_alergia\")\n",
        "res.fetchall()"
      ],
      "metadata": {
        "colab": {
          "base_uri": "https://localhost:8080/"
        },
        "outputId": "8becdfc8-9908-4e9a-ffb7-cb9b1d0324f7",
        "id": "B0VL3QBpSZA5"
      },
      "execution_count": null,
      "outputs": [
        {
          "output_type": "execute_result",
          "data": {
            "text/plain": [
              "[('p2', 'Mario Marques', 'Lactose'),\n",
              " ('p3', 'Maria Marques', 'Lactose'),\n",
              " ('p4', 'Pietro Palmeira', 'Frutos do Mar'),\n",
              " ('p4', 'Pietro Palmeira', 'Castanhas'),\n",
              " ('p7', 'Volverine Valadares', 'Glutem'),\n",
              " ('p7', 'Volverine Valadares', 'Frutos do Mar'),\n",
              " ('p1', 'Ana Antunes', None),\n",
              " ('p8', 'Waldisney Washington', None),\n",
              " ('p6', 'Saulo Sauro', 'Castanhas'),\n",
              " ('p1', 'Ana Antunes', 'Vegano'),\n",
              " ('p2', 'Mario Marques', None),\n",
              " ('p3', 'Maria Marques', None),\n",
              " ('p4', 'Pietro Palmeira', None),\n",
              " ('p4', 'Pietro Palmeira', None),\n",
              " ('p5', 'Pamela Pluma Palmeira', None),\n",
              " ('p6', 'Saulo Sauro', 'Vegetariano'),\n",
              " ('p7', 'Volverine Valadares', None),\n",
              " ('p7', 'Volverine Valadares', None),\n",
              " ('p8', 'Waldisney Washington', 'Vegetariano'),\n",
              " ('p9', 'Daniel Dimes', None),\n",
              " ('p10', 'Daniela Dimes', None)]"
            ]
          },
          "metadata": {},
          "execution_count": 201
        }
      ]
    },
    {
      "cell_type": "markdown",
      "source": [
        "E vou tentar minha consulta inicial:"
      ],
      "metadata": {
        "id": "OzC17ePDS2cZ"
      }
    },
    {
      "cell_type": "code",
      "source": [
        "#Observar o resultado completo\n",
        "res = cur.execute(\"\"\"\n",
        "  SELECT DISTINCT\n",
        "    id_passageiro,\n",
        "    pma.st_nome AS st_nome_passageiro,\n",
        "    id_refeicao,\n",
        "    rma.st_nome AS st_nome_refeicao,\n",
        "    MAX(CASE\n",
        "      WHEN rma.st_alergico = pma.st_alergia_alimentar THEN 1\n",
        "      WHEN rma.st_alergico IS NULL THEN 0\n",
        "      ELSE 0\n",
        "    END ) AS in_contra_indicacao\n",
        "  FROM\n",
        "    passageiros_marcacao_alergia pma\n",
        "  LEFT JOIN\n",
        "    refeicoes_marcacao_alergia rma\n",
        "    ON pma.st_alergia_alimentar = rma.st_alergico\n",
        "    OR pma.st_alergia_alimentar <> rma.st_alergico\n",
        "    OR rma.st_alergico IS NULL\n",
        "  WHERE id_passageiro = 'p5'\n",
        "  GROUP BY id_passageiro, st_nome_passageiro, id_refeicao, st_nome_refeicao\n",
        "  ORDER BY id_passageiro, id_refeicao\n",
        "\"\"\")\n",
        "res.fetchall()"
      ],
      "metadata": {
        "colab": {
          "base_uri": "https://localhost:8080/"
        },
        "outputId": "ea120d54-03d6-4d20-a103-62b53f6577fe",
        "id": "-pOQhm2FK6UW"
      },
      "execution_count": null,
      "outputs": [
        {
          "output_type": "execute_result",
          "data": {
            "text/plain": [
              "[('p5', 'Pamela Pluma Palmeira', 'r6', 'Hamburguer Vegano Combo', 0)]"
            ]
          },
          "metadata": {},
          "execution_count": 207
        }
      ]
    },
    {
      "cell_type": "markdown",
      "source": [
        "Ajusto a questão do null para aparecer tudo mesmo:\n",
        "Faltou a parte do null da tabela a direita (OR pma.st_alergia_alimentar IS NULL)"
      ],
      "metadata": {
        "id": "u27huwkcTW8g"
      }
    },
    {
      "cell_type": "code",
      "source": [
        "#Observar o resultado completo\n",
        "res = cur.execute(\"\"\"\n",
        "  SELECT DISTINCT\n",
        "    id_passageiro,\n",
        "    pma.st_nome AS st_nome_passageiro,\n",
        "    id_refeicao,\n",
        "    rma.st_nome AS st_nome_refeicao,\n",
        "    MAX(CASE\n",
        "      WHEN rma.st_alergico = pma.st_alergia_alimentar THEN 1\n",
        "      WHEN rma.st_alergico IS NULL THEN 0\n",
        "      ELSE 0\n",
        "    END ) AS in_contra_indicacao\n",
        "  FROM\n",
        "    passageiros_marcacao_alergia pma\n",
        "  LEFT JOIN\n",
        "    refeicoes_marcacao_alergia rma\n",
        "    ON pma.st_alergia_alimentar = rma.st_alergico\n",
        "    OR pma.st_alergia_alimentar <> rma.st_alergico\n",
        "    OR rma.st_alergico IS NULL\n",
        "    OR pma.st_alergia_alimentar IS NULL\n",
        "  WHERE id_passageiro = 'p5'\n",
        "  GROUP BY id_passageiro, st_nome_passageiro, id_refeicao, st_nome_refeicao\n",
        "  ORDER BY id_passageiro, id_refeicao\n",
        "\"\"\")\n",
        "res.fetchall()"
      ],
      "metadata": {
        "colab": {
          "base_uri": "https://localhost:8080/"
        },
        "outputId": "c301f3f3-b93f-4aa9-dd45-0eb539dddbce",
        "id": "kjzxbPPzTVCD"
      },
      "execution_count": null,
      "outputs": [
        {
          "output_type": "execute_result",
          "data": {
            "text/plain": [
              "[('p5', 'Pamela Pluma Palmeira', 'r1', 'Frango com Legumes', 0),\n",
              " ('p5', 'Pamela Pluma Palmeira', 'r2', 'Picadinho de carne', 0),\n",
              " ('p5', 'Pamela Pluma Palmeira', 'r3', 'Salada com castanhas', 0),\n",
              " ('p5', 'Pamela Pluma Palmeira', 'r4', 'Risoto de Camarão', 0),\n",
              " ('p5', 'Pamela Pluma Palmeira', 'r5', 'Hamburguer Combo', 0),\n",
              " ('p5', 'Pamela Pluma Palmeira', 'r6', 'Hamburguer Vegano Combo', 0)]"
            ]
          },
          "metadata": {},
          "execution_count": 208
        }
      ]
    },
    {
      "cell_type": "markdown",
      "source": [
        "Satisfeita com minha consulta, meu código final é:"
      ],
      "metadata": {
        "id": "y64ZIHaKTkYd"
      }
    },
    {
      "cell_type": "code",
      "source": [
        "#Observar o resultado completo\n",
        "res = cur.execute(\"\"\"\n",
        "  SELECT DISTINCT\n",
        "    id_passageiro,\n",
        "    pma.st_nome AS st_nome_passageiro,\n",
        "    id_refeicao,\n",
        "    rma.st_nome AS st_nome_refeicao,\n",
        "    MAX(CASE\n",
        "      WHEN rma.st_alergico = pma.st_alergia_alimentar THEN 1\n",
        "      WHEN rma.st_alergico IS NULL THEN 0\n",
        "      ELSE 0\n",
        "    END ) AS in_contra_indicacao\n",
        "  FROM\n",
        "    passageiros_marcacao_alergia pma\n",
        "  LEFT JOIN\n",
        "    refeicoes_marcacao_alergia rma\n",
        "    ON pma.st_alergia_alimentar = rma.st_alergico\n",
        "    OR pma.st_alergia_alimentar <> rma.st_alergico\n",
        "    OR rma.st_alergico IS NULL\n",
        "    OR pma.st_alergia_alimentar IS NULL\n",
        "  GROUP BY id_passageiro, st_nome_passageiro, id_refeicao, st_nome_refeicao\n",
        "  ORDER BY id_passageiro, id_refeicao\n",
        "\"\"\")\n",
        "res.fetchall()"
      ],
      "metadata": {
        "colab": {
          "base_uri": "https://localhost:8080/"
        },
        "id": "dxJ-PP2DTp84",
        "outputId": "40c124f2-ef45-49f2-f6e9-4fb520e58b33"
      },
      "execution_count": null,
      "outputs": [
        {
          "output_type": "execute_result",
          "data": {
            "text/plain": [
              "[('p1', 'Ana Antunes', 'r1', 'Frango com Legumes', 1),\n",
              " ('p1', 'Ana Antunes', 'r2', 'Picadinho de carne', 1),\n",
              " ('p1', 'Ana Antunes', 'r3', 'Salada com castanhas', 0),\n",
              " ('p1', 'Ana Antunes', 'r4', 'Risoto de Camarão', 1),\n",
              " ('p1', 'Ana Antunes', 'r5', 'Hamburguer Combo', 1),\n",
              " ('p1', 'Ana Antunes', 'r6', 'Hamburguer Vegano Combo', 0),\n",
              " ('p10', 'Daniela Dimes', 'r1', 'Frango com Legumes', 0),\n",
              " ('p10', 'Daniela Dimes', 'r2', 'Picadinho de carne', 0),\n",
              " ('p10', 'Daniela Dimes', 'r3', 'Salada com castanhas', 0),\n",
              " ('p10', 'Daniela Dimes', 'r4', 'Risoto de Camarão', 0),\n",
              " ('p10', 'Daniela Dimes', 'r5', 'Hamburguer Combo', 0),\n",
              " ('p10', 'Daniela Dimes', 'r6', 'Hamburguer Vegano Combo', 0),\n",
              " ('p2', 'Mario Marques', 'r1', 'Frango com Legumes', 0),\n",
              " ('p2', 'Mario Marques', 'r2', 'Picadinho de carne', 0),\n",
              " ('p2', 'Mario Marques', 'r3', 'Salada com castanhas', 0),\n",
              " ('p2', 'Mario Marques', 'r4', 'Risoto de Camarão', 1),\n",
              " ('p2', 'Mario Marques', 'r5', 'Hamburguer Combo', 1),\n",
              " ('p2', 'Mario Marques', 'r6', 'Hamburguer Vegano Combo', 0),\n",
              " ('p3', 'Maria Marques', 'r1', 'Frango com Legumes', 0),\n",
              " ('p3', 'Maria Marques', 'r2', 'Picadinho de carne', 0),\n",
              " ('p3', 'Maria Marques', 'r3', 'Salada com castanhas', 0),\n",
              " ('p3', 'Maria Marques', 'r4', 'Risoto de Camarão', 1),\n",
              " ('p3', 'Maria Marques', 'r5', 'Hamburguer Combo', 1),\n",
              " ('p3', 'Maria Marques', 'r6', 'Hamburguer Vegano Combo', 0),\n",
              " ('p4', 'Pietro Palmeira', 'r1', 'Frango com Legumes', 0),\n",
              " ('p4', 'Pietro Palmeira', 'r2', 'Picadinho de carne', 0),\n",
              " ('p4', 'Pietro Palmeira', 'r3', 'Salada com castanhas', 1),\n",
              " ('p4', 'Pietro Palmeira', 'r4', 'Risoto de Camarão', 1),\n",
              " ('p4', 'Pietro Palmeira', 'r5', 'Hamburguer Combo', 0),\n",
              " ('p4', 'Pietro Palmeira', 'r6', 'Hamburguer Vegano Combo', 0),\n",
              " ('p5', 'Pamela Pluma Palmeira', 'r1', 'Frango com Legumes', 0),\n",
              " ('p5', 'Pamela Pluma Palmeira', 'r2', 'Picadinho de carne', 0),\n",
              " ('p5', 'Pamela Pluma Palmeira', 'r3', 'Salada com castanhas', 0),\n",
              " ('p5', 'Pamela Pluma Palmeira', 'r4', 'Risoto de Camarão', 0),\n",
              " ('p5', 'Pamela Pluma Palmeira', 'r5', 'Hamburguer Combo', 0),\n",
              " ('p5', 'Pamela Pluma Palmeira', 'r6', 'Hamburguer Vegano Combo', 0),\n",
              " ('p6', 'Saulo Sauro', 'r1', 'Frango com Legumes', 1),\n",
              " ('p6', 'Saulo Sauro', 'r2', 'Picadinho de carne', 1),\n",
              " ('p6', 'Saulo Sauro', 'r3', 'Salada com castanhas', 1),\n",
              " ('p6', 'Saulo Sauro', 'r4', 'Risoto de Camarão', 1),\n",
              " ('p6', 'Saulo Sauro', 'r5', 'Hamburguer Combo', 1),\n",
              " ('p6', 'Saulo Sauro', 'r6', 'Hamburguer Vegano Combo', 0),\n",
              " ('p7', 'Volverine Valadares', 'r1', 'Frango com Legumes', 1),\n",
              " ('p7', 'Volverine Valadares', 'r2', 'Picadinho de carne', 1),\n",
              " ('p7', 'Volverine Valadares', 'r3', 'Salada com castanhas', 0),\n",
              " ('p7', 'Volverine Valadares', 'r4', 'Risoto de Camarão', 1),\n",
              " ('p7', 'Volverine Valadares', 'r5', 'Hamburguer Combo', 1),\n",
              " ('p7', 'Volverine Valadares', 'r6', 'Hamburguer Vegano Combo', 0),\n",
              " ('p8', 'Waldisney Washington', 'r1', 'Frango com Legumes', 1),\n",
              " ('p8', 'Waldisney Washington', 'r2', 'Picadinho de carne', 1),\n",
              " ('p8', 'Waldisney Washington', 'r3', 'Salada com castanhas', 0),\n",
              " ('p8', 'Waldisney Washington', 'r4', 'Risoto de Camarão', 1),\n",
              " ('p8', 'Waldisney Washington', 'r5', 'Hamburguer Combo', 1),\n",
              " ('p8', 'Waldisney Washington', 'r6', 'Hamburguer Vegano Combo', 0),\n",
              " ('p9', 'Daniel Dimes', 'r1', 'Frango com Legumes', 0),\n",
              " ('p9', 'Daniel Dimes', 'r2', 'Picadinho de carne', 0),\n",
              " ('p9', 'Daniel Dimes', 'r3', 'Salada com castanhas', 0),\n",
              " ('p9', 'Daniel Dimes', 'r4', 'Risoto de Camarão', 0),\n",
              " ('p9', 'Daniel Dimes', 'r5', 'Hamburguer Combo', 0),\n",
              " ('p9', 'Daniel Dimes', 'r6', 'Hamburguer Vegano Combo', 0)]"
            ]
          },
          "metadata": {},
          "execution_count": 36
        }
      ]
    },
    {
      "cell_type": "markdown",
      "source": [
        "E para responder a dúvida inicial de menu, tenho então:"
      ],
      "metadata": {
        "id": "z5-_uvGOTyqm"
      }
    },
    {
      "cell_type": "code",
      "source": [
        "#Observar o resultado completo\n",
        "cur.execute(\"\"\"\n",
        "CREATE VIEW relacao_refeicoes_indicadas\n",
        "AS\n",
        "  SELECT DISTINCT\n",
        "    id_passageiro,\n",
        "    pma.st_nome AS st_nome_passageiro,\n",
        "    id_refeicao,\n",
        "    rma.st_nome AS st_nome_refeicao,\n",
        "    MAX(CASE\n",
        "      WHEN rma.st_alergico = pma.st_alergia_alimentar THEN 1\n",
        "      WHEN rma.st_alergico IS NULL THEN 0\n",
        "      ELSE 0\n",
        "    END ) AS in_contra_indicacao\n",
        "  FROM\n",
        "    passageiros_marcacao_alergia pma\n",
        "  LEFT JOIN\n",
        "    refeicoes_marcacao_alergia rma\n",
        "    ON pma.st_alergia_alimentar = rma.st_alergico\n",
        "    OR pma.st_alergia_alimentar <> rma.st_alergico\n",
        "    OR rma.st_alergico IS NULL\n",
        "    OR pma.st_alergia_alimentar IS NULL\n",
        "  GROUP BY id_passageiro, st_nome_passageiro, id_refeicao, st_nome_refeicao\n",
        "  ORDER BY id_passageiro, id_refeicao\n",
        "\"\"\")\n",
        "\n",
        "res = cur.execute(\" SELECT * FROM relacao_refeicoes_indicadas WHERE in_contra_indicacao = 0\")\n",
        "res.fetchall()"
      ],
      "metadata": {
        "colab": {
          "base_uri": "https://localhost:8080/"
        },
        "id": "Ir53qUBVT3l7",
        "outputId": "eb87f57c-919d-4cf1-e425-91926d43a0b2"
      },
      "execution_count": null,
      "outputs": [
        {
          "output_type": "execute_result",
          "data": {
            "text/plain": [
              "[('p1', 'Ana Antunes', 'r3', 'Salada com castanhas', 0),\n",
              " ('p1', 'Ana Antunes', 'r6', 'Hamburguer Vegano Combo', 0),\n",
              " ('p10', 'Daniela Dimes', 'r1', 'Frango com Legumes', 0),\n",
              " ('p10', 'Daniela Dimes', 'r2', 'Picadinho de carne', 0),\n",
              " ('p10', 'Daniela Dimes', 'r3', 'Salada com castanhas', 0),\n",
              " ('p10', 'Daniela Dimes', 'r4', 'Risoto de Camarão', 0),\n",
              " ('p10', 'Daniela Dimes', 'r5', 'Hamburguer Combo', 0),\n",
              " ('p10', 'Daniela Dimes', 'r6', 'Hamburguer Vegano Combo', 0),\n",
              " ('p2', 'Mario Marques', 'r1', 'Frango com Legumes', 0),\n",
              " ('p2', 'Mario Marques', 'r2', 'Picadinho de carne', 0),\n",
              " ('p2', 'Mario Marques', 'r3', 'Salada com castanhas', 0),\n",
              " ('p2', 'Mario Marques', 'r6', 'Hamburguer Vegano Combo', 0),\n",
              " ('p3', 'Maria Marques', 'r1', 'Frango com Legumes', 0),\n",
              " ('p3', 'Maria Marques', 'r2', 'Picadinho de carne', 0),\n",
              " ('p3', 'Maria Marques', 'r3', 'Salada com castanhas', 0),\n",
              " ('p3', 'Maria Marques', 'r6', 'Hamburguer Vegano Combo', 0),\n",
              " ('p4', 'Pietro Palmeira', 'r1', 'Frango com Legumes', 0),\n",
              " ('p4', 'Pietro Palmeira', 'r2', 'Picadinho de carne', 0),\n",
              " ('p4', 'Pietro Palmeira', 'r5', 'Hamburguer Combo', 0),\n",
              " ('p4', 'Pietro Palmeira', 'r6', 'Hamburguer Vegano Combo', 0),\n",
              " ('p5', 'Pamela Pluma Palmeira', 'r1', 'Frango com Legumes', 0),\n",
              " ('p5', 'Pamela Pluma Palmeira', 'r2', 'Picadinho de carne', 0),\n",
              " ('p5', 'Pamela Pluma Palmeira', 'r3', 'Salada com castanhas', 0),\n",
              " ('p5', 'Pamela Pluma Palmeira', 'r4', 'Risoto de Camarão', 0),\n",
              " ('p5', 'Pamela Pluma Palmeira', 'r5', 'Hamburguer Combo', 0),\n",
              " ('p5', 'Pamela Pluma Palmeira', 'r6', 'Hamburguer Vegano Combo', 0),\n",
              " ('p6', 'Saulo Sauro', 'r6', 'Hamburguer Vegano Combo', 0),\n",
              " ('p7', 'Volverine Valadares', 'r3', 'Salada com castanhas', 0),\n",
              " ('p7', 'Volverine Valadares', 'r6', 'Hamburguer Vegano Combo', 0),\n",
              " ('p8', 'Waldisney Washington', 'r3', 'Salada com castanhas', 0),\n",
              " ('p8', 'Waldisney Washington', 'r6', 'Hamburguer Vegano Combo', 0),\n",
              " ('p9', 'Daniel Dimes', 'r1', 'Frango com Legumes', 0),\n",
              " ('p9', 'Daniel Dimes', 'r2', 'Picadinho de carne', 0),\n",
              " ('p9', 'Daniel Dimes', 'r3', 'Salada com castanhas', 0),\n",
              " ('p9', 'Daniel Dimes', 'r4', 'Risoto de Camarão', 0),\n",
              " ('p9', 'Daniel Dimes', 'r5', 'Hamburguer Combo', 0),\n",
              " ('p9', 'Daniel Dimes', 'r6', 'Hamburguer Vegano Combo', 0)]"
            ]
          },
          "metadata": {},
          "execution_count": 37
        }
      ]
    },
    {
      "cell_type": "code",
      "source": [
        "res = cur.execute(\"\"\"\n",
        "  SELECT\n",
        "    *\n",
        "  FROM\n",
        "    relacao_refeicoes_indicadas\n",
        "  WHERE\n",
        "    in_contra_indicacao = 0\n",
        "  ORDER BY id_passageiro, id_refeicao\n",
        "\"\"\")\n",
        "res.fetchall()"
      ],
      "metadata": {
        "colab": {
          "base_uri": "https://localhost:8080/"
        },
        "id": "8yuvBKnpUUwQ",
        "outputId": "d60630b1-d90e-419a-eb69-1f3e70ae44b7"
      },
      "execution_count": null,
      "outputs": [
        {
          "output_type": "execute_result",
          "data": {
            "text/plain": [
              "[('p1', 'Ana Antunes', 'r3', 'Salada com castanhas', 0),\n",
              " ('p1', 'Ana Antunes', 'r6', 'Hamburguer Vegano Combo', 0),\n",
              " ('p10', 'Daniela Dimes', 'r1', 'Frango com Legumes', 0),\n",
              " ('p10', 'Daniela Dimes', 'r2', 'Picadinho de carne', 0),\n",
              " ('p10', 'Daniela Dimes', 'r3', 'Salada com castanhas', 0),\n",
              " ('p10', 'Daniela Dimes', 'r4', 'Risoto de Camarão', 0),\n",
              " ('p10', 'Daniela Dimes', 'r5', 'Hamburguer Combo', 0),\n",
              " ('p10', 'Daniela Dimes', 'r6', 'Hamburguer Vegano Combo', 0),\n",
              " ('p2', 'Mario Marques', 'r1', 'Frango com Legumes', 0),\n",
              " ('p2', 'Mario Marques', 'r2', 'Picadinho de carne', 0),\n",
              " ('p2', 'Mario Marques', 'r3', 'Salada com castanhas', 0),\n",
              " ('p2', 'Mario Marques', 'r6', 'Hamburguer Vegano Combo', 0),\n",
              " ('p3', 'Maria Marques', 'r1', 'Frango com Legumes', 0),\n",
              " ('p3', 'Maria Marques', 'r2', 'Picadinho de carne', 0),\n",
              " ('p3', 'Maria Marques', 'r3', 'Salada com castanhas', 0),\n",
              " ('p3', 'Maria Marques', 'r6', 'Hamburguer Vegano Combo', 0),\n",
              " ('p4', 'Pietro Palmeira', 'r1', 'Frango com Legumes', 0),\n",
              " ('p4', 'Pietro Palmeira', 'r2', 'Picadinho de carne', 0),\n",
              " ('p4', 'Pietro Palmeira', 'r5', 'Hamburguer Combo', 0),\n",
              " ('p4', 'Pietro Palmeira', 'r6', 'Hamburguer Vegano Combo', 0),\n",
              " ('p5', 'Pamela Pluma Palmeira', 'r1', 'Frango com Legumes', 0),\n",
              " ('p5', 'Pamela Pluma Palmeira', 'r2', 'Picadinho de carne', 0),\n",
              " ('p5', 'Pamela Pluma Palmeira', 'r3', 'Salada com castanhas', 0),\n",
              " ('p5', 'Pamela Pluma Palmeira', 'r4', 'Risoto de Camarão', 0),\n",
              " ('p5', 'Pamela Pluma Palmeira', 'r5', 'Hamburguer Combo', 0),\n",
              " ('p5', 'Pamela Pluma Palmeira', 'r6', 'Hamburguer Vegano Combo', 0),\n",
              " ('p6', 'Saulo Sauro', 'r6', 'Hamburguer Vegano Combo', 0),\n",
              " ('p7', 'Volverine Valadares', 'r3', 'Salada com castanhas', 0),\n",
              " ('p7', 'Volverine Valadares', 'r6', 'Hamburguer Vegano Combo', 0),\n",
              " ('p8', 'Waldisney Washington', 'r3', 'Salada com castanhas', 0),\n",
              " ('p8', 'Waldisney Washington', 'r6', 'Hamburguer Vegano Combo', 0),\n",
              " ('p9', 'Daniel Dimes', 'r1', 'Frango com Legumes', 0),\n",
              " ('p9', 'Daniel Dimes', 'r2', 'Picadinho de carne', 0),\n",
              " ('p9', 'Daniel Dimes', 'r3', 'Salada com castanhas', 0),\n",
              " ('p9', 'Daniel Dimes', 'r4', 'Risoto de Camarão', 0),\n",
              " ('p9', 'Daniel Dimes', 'r5', 'Hamburguer Combo', 0),\n",
              " ('p9', 'Daniel Dimes', 'r6', 'Hamburguer Vegano Combo', 0)]"
            ]
          },
          "metadata": {},
          "execution_count": 213
        }
      ]
    }
  ]
}